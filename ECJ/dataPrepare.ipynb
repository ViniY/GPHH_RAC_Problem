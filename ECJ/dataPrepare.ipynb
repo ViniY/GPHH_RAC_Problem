{
 "cells": [
  {
   "cell_type": "code",
   "execution_count": 1,
   "metadata": {},
   "outputs": [],
   "source": [
    "import pandas as pd\n",
    "import numpy as np \n",
    "import matplotlib.pyplot as plt"
   ]
  },
  {
   "cell_type": "code",
   "execution_count": 2,
   "metadata": {},
   "outputs": [],
   "source": [
    "dataPath = \"C:\\\\Users\\\\vini\\Desktop\\Data\\\\vm_cpu_readings-file-1-of-195.csv\"\n",
    "dataPath2 = \"C:\\\\Users\\\\vini\\Desktop\\Data\\\\vm_cpu_readings-file-2-of-195.csv\"\n",
    "\n",
    "dataPath3 = \"C:\\\\Users\\\\vini\\Desktop\\Data\\\\vm_cpu_readings-file-3-of-195.csv\"\n",
    "\n",
    "dataPath4= \"C:\\\\Users\\\\vini\\Desktop\\Data\\\\vm_cpu_readings-file-4-of-195.csv\"\n",
    "\n",
    "dataPath5 = \"C:\\\\Users\\\\vini\\Desktop\\Data\\\\vm_cpu_readings-file-5-of-195.csv\"\n",
    "dataPath6 = \"C:\\\\Users\\\\vini\\Desktop\\Data\\\\vm_cpu_readings-file-6-of-195.csv\"\n",
    "\n",
    "dataPath7 = \"C:\\\\Users\\\\vini\\Desktop\\Data\\\\vm_cpu_readings-file-7-of-195.csv\"\n",
    "\n",
    "dataPath8 = \"C:\\\\Users\\\\vini\\Desktop\\Data\\\\vm_cpu_readings-file-8-of-195.csv\"\n",
    "\n",
    "\n",
    "df_Data = pd.read_csv(dataPath, header =None)\n",
    "\n",
    "# df_Data9 = pd.read_csv(dataPath, header =None)"
   ]
  },
  {
   "cell_type": "code",
   "execution_count": 3,
   "metadata": {},
   "outputs": [],
   "source": [
    "df_Data2 = pd.read_csv(dataPath2, header =None)\n",
    "df_Data3 = pd.read_csv(dataPath3, header =None)\n",
    "df_Data4 = pd.read_csv(dataPath4, header =None)\n",
    "df_Data5 = pd.read_csv(dataPath5, header =None)\n"
   ]
  },
  {
   "cell_type": "code",
   "execution_count": 185,
   "metadata": {},
   "outputs": [],
   "source": [
    "# df_Data6 = pd.read_csv(dataPath6, header =None)\n",
    "# df_Data7 = pd.read_csv(dataPath7, header =None)\n",
    "# df_Data8 = pd.read_csv(dataPath8, header =None)"
   ]
  },
  {
   "cell_type": "code",
   "execution_count": 4,
   "metadata": {},
   "outputs": [],
   "source": [
    "df_Data = pd.concat([df_Data,df_Data2])"
   ]
  },
  {
   "cell_type": "code",
   "execution_count": 5,
   "metadata": {},
   "outputs": [],
   "source": [
    "df_Data = pd.concat([df_Data,df_Data3])\n",
    "df_Data = pd.concat([df_Data,df_Data4])\n",
    "df_Data = pd.concat([df_Data,df_Data5])\n",
    "# df_Data = pd.concat([df_Data,df_Data6])\n",
    "# df_Data = pd.concat([df_Data,df_Data7])\n",
    "# df_Data = pd.concat([df_Data,df_Data8])"
   ]
  },
  {
   "cell_type": "code",
   "execution_count": 6,
   "metadata": {},
   "outputs": [
    {
     "name": "stdout",
     "output_type": "stream",
     "text": [
      "50000000\n"
     ]
    },
    {
     "data": {
      "text/html": [
       "<div>\n",
       "<style scoped>\n",
       "    .dataframe tbody tr th:only-of-type {\n",
       "        vertical-align: middle;\n",
       "    }\n",
       "\n",
       "    .dataframe tbody tr th {\n",
       "        vertical-align: top;\n",
       "    }\n",
       "\n",
       "    .dataframe thead th {\n",
       "        text-align: right;\n",
       "    }\n",
       "</style>\n",
       "<table border=\"1\" class=\"dataframe\">\n",
       "  <thead>\n",
       "    <tr style=\"text-align: right;\">\n",
       "      <th></th>\n",
       "      <th>0</th>\n",
       "      <th>1</th>\n",
       "      <th>2</th>\n",
       "      <th>3</th>\n",
       "      <th>4</th>\n",
       "    </tr>\n",
       "  </thead>\n",
       "  <tbody>\n",
       "    <tr>\n",
       "      <th>0</th>\n",
       "      <td>0</td>\n",
       "      <td>yNf/R3X8fyXkOJm3ihXQcT0F52a8cDWPPRzTT6QFW8N+1Q...</td>\n",
       "      <td>19.898441</td>\n",
       "      <td>24.996361</td>\n",
       "      <td>22.630673</td>\n",
       "    </tr>\n",
       "    <tr>\n",
       "      <th>1</th>\n",
       "      <td>0</td>\n",
       "      <td>gVb4X4iS13nJrM0KZsy7SrHzWAHix0CEPlK7/deV5vkwjt...</td>\n",
       "      <td>14.281488</td>\n",
       "      <td>20.028324</td>\n",
       "      <td>17.250655</td>\n",
       "    </tr>\n",
       "    <tr>\n",
       "      <th>2</th>\n",
       "      <td>0</td>\n",
       "      <td>f8BtQHczrXFjnVxWl8Hqm1kH9UD/8nCvtXCLiFvVRvamqa...</td>\n",
       "      <td>1.655368</td>\n",
       "      <td>23.138685</td>\n",
       "      <td>8.533818</td>\n",
       "    </tr>\n",
       "    <tr>\n",
       "      <th>3</th>\n",
       "      <td>0</td>\n",
       "      <td>8xjtVrJRJAyArNlbRgCftoNQOZiWl2eRP6uQavL9+6IULT...</td>\n",
       "      <td>47.501061</td>\n",
       "      <td>52.940579</td>\n",
       "      <td>50.045584</td>\n",
       "    </tr>\n",
       "    <tr>\n",
       "      <th>4</th>\n",
       "      <td>0</td>\n",
       "      <td>zTE3f0H2n43tW+PA3OdonjUTWWxeyzF7xJk9QH9s/487J/...</td>\n",
       "      <td>1.724155</td>\n",
       "      <td>12.889580</td>\n",
       "      <td>4.833578</td>\n",
       "    </tr>\n",
       "  </tbody>\n",
       "</table>\n",
       "</div>"
      ],
      "text/plain": [
       "   0                                                  1          2          3  \\\n",
       "0  0  yNf/R3X8fyXkOJm3ihXQcT0F52a8cDWPPRzTT6QFW8N+1Q...  19.898441  24.996361   \n",
       "1  0  gVb4X4iS13nJrM0KZsy7SrHzWAHix0CEPlK7/deV5vkwjt...  14.281488  20.028324   \n",
       "2  0  f8BtQHczrXFjnVxWl8Hqm1kH9UD/8nCvtXCLiFvVRvamqa...   1.655368  23.138685   \n",
       "3  0  8xjtVrJRJAyArNlbRgCftoNQOZiWl2eRP6uQavL9+6IULT...  47.501061  52.940579   \n",
       "4  0  zTE3f0H2n43tW+PA3OdonjUTWWxeyzF7xJk9QH9s/487J/...   1.724155  12.889580   \n",
       "\n",
       "           4  \n",
       "0  22.630673  \n",
       "1  17.250655  \n",
       "2   8.533818  \n",
       "3  50.045584  \n",
       "4   4.833578  "
      ]
     },
     "execution_count": 6,
     "metadata": {},
     "output_type": "execute_result"
    }
   ],
   "source": [
    "print(len(df_Data))\n",
    "df_Data.head(5)"
   ]
  },
  {
   "cell_type": "code",
   "execution_count": 7,
   "metadata": {},
   "outputs": [],
   "source": [
    "vmTablePath = \"C:\\\\Users\\\\vini\\Desktop\\Data\\\\vmtable.csv\"\n",
    "dfVMTbale = pd.read_csv(vmTablePath, header =None)"
   ]
  },
  {
   "cell_type": "code",
   "execution_count": 8,
   "metadata": {},
   "outputs": [],
   "source": [
    "dfVMTable = dfVMTbale"
   ]
  },
  {
   "cell_type": "code",
   "execution_count": 9,
   "metadata": {},
   "outputs": [
    {
     "data": {
      "text/html": [
       "<div>\n",
       "<style scoped>\n",
       "    .dataframe tbody tr th:only-of-type {\n",
       "        vertical-align: middle;\n",
       "    }\n",
       "\n",
       "    .dataframe tbody tr th {\n",
       "        vertical-align: top;\n",
       "    }\n",
       "\n",
       "    .dataframe thead th {\n",
       "        text-align: right;\n",
       "    }\n",
       "</style>\n",
       "<table border=\"1\" class=\"dataframe\">\n",
       "  <thead>\n",
       "    <tr style=\"text-align: right;\">\n",
       "      <th></th>\n",
       "      <th>0</th>\n",
       "      <th>1</th>\n",
       "      <th>2</th>\n",
       "      <th>3</th>\n",
       "      <th>4</th>\n",
       "      <th>5</th>\n",
       "      <th>6</th>\n",
       "      <th>7</th>\n",
       "      <th>8</th>\n",
       "      <th>9</th>\n",
       "      <th>10</th>\n",
       "    </tr>\n",
       "  </thead>\n",
       "  <tbody>\n",
       "    <tr>\n",
       "      <th>0</th>\n",
       "      <td>71fJw0x+SDRdAxKPwLyHZhTgQpYw2afS6tjJhfT6kHnmLH...</td>\n",
       "      <td>GB6uQC1NSArW5n+TtOybL7GQ1yByjuWtZnsj+5QccZ525R...</td>\n",
       "      <td>2sh/ZjaYdfpslv4iYBfNzFe4rs982kHVvNGJGeQ8MIBCDr...</td>\n",
       "      <td>558300</td>\n",
       "      <td>1673700</td>\n",
       "      <td>91.776885</td>\n",
       "      <td>0.728879</td>\n",
       "      <td>20.759630</td>\n",
       "      <td>Delay-insensitive</td>\n",
       "      <td>8</td>\n",
       "      <td>32</td>\n",
       "    </tr>\n",
       "    <tr>\n",
       "      <th>1</th>\n",
       "      <td>rKggHO/04j31UFy65mDTwtjdMQL/G03xWfl3xGeiilB4/W...</td>\n",
       "      <td>ub4ty8ygwOECrIz7eaZ/9hDwnCsERvZ3nJJ03sDSpD85et...</td>\n",
       "      <td>+ZraIDUNaWYDZMBiBtZm7xSjr+j3zcHGjup1+wyKxHFmyJ...</td>\n",
       "      <td>424500</td>\n",
       "      <td>425400</td>\n",
       "      <td>37.879261</td>\n",
       "      <td>3.325358</td>\n",
       "      <td>37.879261</td>\n",
       "      <td>Unknown</td>\n",
       "      <td>4</td>\n",
       "      <td>32</td>\n",
       "    </tr>\n",
       "    <tr>\n",
       "      <th>2</th>\n",
       "      <td>YrR8gPtBmfNaOdnNEW5If1SdTqQgGQHEnLHGPjySt53bKW...</td>\n",
       "      <td>9LrdYRcUfGbmL2fFfLR/JUg2OTkjGRe3iluwIhDRPnPDPa...</td>\n",
       "      <td>GEyIElfPSFupze8T+T1niQMepeqG88VpLNuxUMyIDbz8VF...</td>\n",
       "      <td>1133100</td>\n",
       "      <td>1133700</td>\n",
       "      <td>0.304368</td>\n",
       "      <td>0.220553</td>\n",
       "      <td>0.304368</td>\n",
       "      <td>Unknown</td>\n",
       "      <td>4</td>\n",
       "      <td>32</td>\n",
       "    </tr>\n",
       "    <tr>\n",
       "      <th>3</th>\n",
       "      <td>xzQ++JF1UAkh70CDhmzkiOo+DQn+E2TLErCFKEmSswv1pl...</td>\n",
       "      <td>0XnZZ8sMN5HY+Yg+0dykYB5oenlgsrCpzpgFSvn/MX42Ze...</td>\n",
       "      <td>7aCQS6fPUw9rwCPiqvghk/WCEbMV3KgNJjA+sssdfY5Ybl...</td>\n",
       "      <td>0</td>\n",
       "      <td>2591400</td>\n",
       "      <td>98.573424</td>\n",
       "      <td>30.340054</td>\n",
       "      <td>98.212503</td>\n",
       "      <td>Interactive</td>\n",
       "      <td>2</td>\n",
       "      <td>4</td>\n",
       "    </tr>\n",
       "    <tr>\n",
       "      <th>4</th>\n",
       "      <td>vZEivnhabRmImDr+JqKqZnpIM3WxtypwoxjfjnklR/idyR...</td>\n",
       "      <td>HUGaZ+piPP4eHjycCBki2yq0raJywdzrVuriR6nQceH3hA...</td>\n",
       "      <td>/s/D5VtTQDxyS6wq7N/VQAMczx61Ny1Ut3a3iFmDSOCXxp...</td>\n",
       "      <td>228300</td>\n",
       "      <td>229800</td>\n",
       "      <td>82.581449</td>\n",
       "      <td>13.876299</td>\n",
       "      <td>82.581449</td>\n",
       "      <td>Unknown</td>\n",
       "      <td>2</td>\n",
       "      <td>4</td>\n",
       "    </tr>\n",
       "    <tr>\n",
       "      <th>...</th>\n",
       "      <td>...</td>\n",
       "      <td>...</td>\n",
       "      <td>...</td>\n",
       "      <td>...</td>\n",
       "      <td>...</td>\n",
       "      <td>...</td>\n",
       "      <td>...</td>\n",
       "      <td>...</td>\n",
       "      <td>...</td>\n",
       "      <td>...</td>\n",
       "      <td>...</td>\n",
       "    </tr>\n",
       "    <tr>\n",
       "      <th>2695543</th>\n",
       "      <td>CfZn37rcUvC4sVjWik6yIutOzNfno3c4dg6eIoqpaSE8P8...</td>\n",
       "      <td>5zIKLXAWdyG8bQWPX+g0Zc4RjQlOYj2lQqhv4HSZobgILo...</td>\n",
       "      <td>sB0KxCqfKVBclkgO327x9TDml4StRtgTC1WTMWvRtDUdIm...</td>\n",
       "      <td>141300</td>\n",
       "      <td>145200</td>\n",
       "      <td>95.902013</td>\n",
       "      <td>76.232801</td>\n",
       "      <td>95.902013</td>\n",
       "      <td>Unknown</td>\n",
       "      <td>4</td>\n",
       "      <td>32</td>\n",
       "    </tr>\n",
       "    <tr>\n",
       "      <th>2695544</th>\n",
       "      <td>D5jsQPZSlO+KakH/yp7bPV5hrKPhyxMrh0WAzMVarUDFpf...</td>\n",
       "      <td>HD4yDQaGa1Yah7WxdgJ6vXIS2/ssrcQ/zYyZ9ZIX/2kMOs...</td>\n",
       "      <td>dVoT1JKlL3DDuEvSOLYeDW/HAuNR4XfrfIs71b79zW0+bT...</td>\n",
       "      <td>0</td>\n",
       "      <td>2591400</td>\n",
       "      <td>94.095362</td>\n",
       "      <td>5.845202</td>\n",
       "      <td>11.260807</td>\n",
       "      <td>Delay-insensitive</td>\n",
       "      <td>2</td>\n",
       "      <td>4</td>\n",
       "    </tr>\n",
       "    <tr>\n",
       "      <th>2695545</th>\n",
       "      <td>FP9Lf4/jjWgWl9HS80x1NoeFwOPhLQo1ACPgqjtBF3+z9L...</td>\n",
       "      <td>1wYls1fw1ahqoRuYgqTwW1CWwFCA+GhM8bUdE2ZnE3QEUi...</td>\n",
       "      <td>H7sClR+x5JuEla7XAQrY+ndhsycwQg/M3OuHdyyggOfVsG...</td>\n",
       "      <td>1744800</td>\n",
       "      <td>1802700</td>\n",
       "      <td>96.197271</td>\n",
       "      <td>12.361066</td>\n",
       "      <td>88.992556</td>\n",
       "      <td>Unknown</td>\n",
       "      <td>2</td>\n",
       "      <td>4</td>\n",
       "    </tr>\n",
       "    <tr>\n",
       "      <th>2695546</th>\n",
       "      <td>thW1eyboLMZJy6GgeCIpLllRfqn0q7JgDYarlC9Jm5tg6i...</td>\n",
       "      <td>T5YgbHHsKY6pX+pei3XcWWpIvtVWWkZQFnMYy4VtXV0riR...</td>\n",
       "      <td>/M/NNfrx6jUC97ev+QgMyH6DyFdCcAerLZg+z/Bhenbedn...</td>\n",
       "      <td>387000</td>\n",
       "      <td>387600</td>\n",
       "      <td>44.266935</td>\n",
       "      <td>13.089638</td>\n",
       "      <td>44.266935</td>\n",
       "      <td>Unknown</td>\n",
       "      <td>4</td>\n",
       "      <td>8</td>\n",
       "    </tr>\n",
       "    <tr>\n",
       "      <th>2695547</th>\n",
       "      <td>TqMw/UmeYGTWCvWBdL+yIw6+Pz3Vzj/OgIZNepu3scPY94...</td>\n",
       "      <td>WNT54pOWDfmglyHABHm850c29ivpM+8HMdB9XSU4krSlh1...</td>\n",
       "      <td>gw5l9LL9y6/eO3ydPV9Bbd0L/PcchKCX9Pb4Qx+MIpsYCI...</td>\n",
       "      <td>1300500</td>\n",
       "      <td>1301100</td>\n",
       "      <td>0.108262</td>\n",
       "      <td>0.034763</td>\n",
       "      <td>0.108262</td>\n",
       "      <td>Unknown</td>\n",
       "      <td>4</td>\n",
       "      <td>32</td>\n",
       "    </tr>\n",
       "  </tbody>\n",
       "</table>\n",
       "<p>2695548 rows × 11 columns</p>\n",
       "</div>"
      ],
      "text/plain": [
       "                                                        0   \\\n",
       "0        71fJw0x+SDRdAxKPwLyHZhTgQpYw2afS6tjJhfT6kHnmLH...   \n",
       "1        rKggHO/04j31UFy65mDTwtjdMQL/G03xWfl3xGeiilB4/W...   \n",
       "2        YrR8gPtBmfNaOdnNEW5If1SdTqQgGQHEnLHGPjySt53bKW...   \n",
       "3        xzQ++JF1UAkh70CDhmzkiOo+DQn+E2TLErCFKEmSswv1pl...   \n",
       "4        vZEivnhabRmImDr+JqKqZnpIM3WxtypwoxjfjnklR/idyR...   \n",
       "...                                                    ...   \n",
       "2695543  CfZn37rcUvC4sVjWik6yIutOzNfno3c4dg6eIoqpaSE8P8...   \n",
       "2695544  D5jsQPZSlO+KakH/yp7bPV5hrKPhyxMrh0WAzMVarUDFpf...   \n",
       "2695545  FP9Lf4/jjWgWl9HS80x1NoeFwOPhLQo1ACPgqjtBF3+z9L...   \n",
       "2695546  thW1eyboLMZJy6GgeCIpLllRfqn0q7JgDYarlC9Jm5tg6i...   \n",
       "2695547  TqMw/UmeYGTWCvWBdL+yIw6+Pz3Vzj/OgIZNepu3scPY94...   \n",
       "\n",
       "                                                        1   \\\n",
       "0        GB6uQC1NSArW5n+TtOybL7GQ1yByjuWtZnsj+5QccZ525R...   \n",
       "1        ub4ty8ygwOECrIz7eaZ/9hDwnCsERvZ3nJJ03sDSpD85et...   \n",
       "2        9LrdYRcUfGbmL2fFfLR/JUg2OTkjGRe3iluwIhDRPnPDPa...   \n",
       "3        0XnZZ8sMN5HY+Yg+0dykYB5oenlgsrCpzpgFSvn/MX42Ze...   \n",
       "4        HUGaZ+piPP4eHjycCBki2yq0raJywdzrVuriR6nQceH3hA...   \n",
       "...                                                    ...   \n",
       "2695543  5zIKLXAWdyG8bQWPX+g0Zc4RjQlOYj2lQqhv4HSZobgILo...   \n",
       "2695544  HD4yDQaGa1Yah7WxdgJ6vXIS2/ssrcQ/zYyZ9ZIX/2kMOs...   \n",
       "2695545  1wYls1fw1ahqoRuYgqTwW1CWwFCA+GhM8bUdE2ZnE3QEUi...   \n",
       "2695546  T5YgbHHsKY6pX+pei3XcWWpIvtVWWkZQFnMYy4VtXV0riR...   \n",
       "2695547  WNT54pOWDfmglyHABHm850c29ivpM+8HMdB9XSU4krSlh1...   \n",
       "\n",
       "                                                        2        3        4   \\\n",
       "0        2sh/ZjaYdfpslv4iYBfNzFe4rs982kHVvNGJGeQ8MIBCDr...   558300  1673700   \n",
       "1        +ZraIDUNaWYDZMBiBtZm7xSjr+j3zcHGjup1+wyKxHFmyJ...   424500   425400   \n",
       "2        GEyIElfPSFupze8T+T1niQMepeqG88VpLNuxUMyIDbz8VF...  1133100  1133700   \n",
       "3        7aCQS6fPUw9rwCPiqvghk/WCEbMV3KgNJjA+sssdfY5Ybl...        0  2591400   \n",
       "4        /s/D5VtTQDxyS6wq7N/VQAMczx61Ny1Ut3a3iFmDSOCXxp...   228300   229800   \n",
       "...                                                    ...      ...      ...   \n",
       "2695543  sB0KxCqfKVBclkgO327x9TDml4StRtgTC1WTMWvRtDUdIm...   141300   145200   \n",
       "2695544  dVoT1JKlL3DDuEvSOLYeDW/HAuNR4XfrfIs71b79zW0+bT...        0  2591400   \n",
       "2695545  H7sClR+x5JuEla7XAQrY+ndhsycwQg/M3OuHdyyggOfVsG...  1744800  1802700   \n",
       "2695546  /M/NNfrx6jUC97ev+QgMyH6DyFdCcAerLZg+z/Bhenbedn...   387000   387600   \n",
       "2695547  gw5l9LL9y6/eO3ydPV9Bbd0L/PcchKCX9Pb4Qx+MIpsYCI...  1300500  1301100   \n",
       "\n",
       "                5          6          7                  8  9   10  \n",
       "0        91.776885   0.728879  20.759630  Delay-insensitive  8  32  \n",
       "1        37.879261   3.325358  37.879261            Unknown  4  32  \n",
       "2         0.304368   0.220553   0.304368            Unknown  4  32  \n",
       "3        98.573424  30.340054  98.212503        Interactive  2   4  \n",
       "4        82.581449  13.876299  82.581449            Unknown  2   4  \n",
       "...            ...        ...        ...                ... ..  ..  \n",
       "2695543  95.902013  76.232801  95.902013            Unknown  4  32  \n",
       "2695544  94.095362   5.845202  11.260807  Delay-insensitive  2   4  \n",
       "2695545  96.197271  12.361066  88.992556            Unknown  2   4  \n",
       "2695546  44.266935  13.089638  44.266935            Unknown  4   8  \n",
       "2695547   0.108262   0.034763   0.108262            Unknown  4  32  \n",
       "\n",
       "[2695548 rows x 11 columns]"
      ]
     },
     "execution_count": 9,
     "metadata": {},
     "output_type": "execute_result"
    }
   ],
   "source": [
    "dfVMTable"
   ]
  },
  {
   "cell_type": "code",
   "execution_count": 10,
   "metadata": {},
   "outputs": [],
   "source": [
    "schema = \"C:\\\\Users\\\\vini\\Desktop\\Data\\\\schema.csv\"\n",
    "dfSchema = pd.read_csv(schema)\n"
   ]
  },
  {
   "cell_type": "code",
   "execution_count": 11,
   "metadata": {},
   "outputs": [],
   "source": [
    "filePatterns = list(dfSchema[\"filepattern\"])\n",
    "content = list(dfSchema[\"content\"])"
   ]
  },
  {
   "cell_type": "code",
   "execution_count": 12,
   "metadata": {},
   "outputs": [
    {
     "data": {
      "text/plain": [
       "['vm_virtual_core_bucket_definition.csv',\n",
       " 'vm_virtual_core_bucket_definition.csv',\n",
       " 'vm_memory_bucket_definition.csv',\n",
       " 'vm_memory_bucket_definition.csv',\n",
       " 'subscriptions/subscriptions.csv.gz',\n",
       " 'subscriptions/subscriptions.csv.gz',\n",
       " 'subscriptions/subscriptions.csv.gz',\n",
       " 'deployment/deployment.csv.gz',\n",
       " 'deployment/deployment.csv.gz',\n",
       " 'vmtable/vmtable.csv.gz',\n",
       " 'vmtable/vmtable.csv.gz',\n",
       " 'vmtable/vmtable.csv.gz',\n",
       " 'vmtable/vmtable.csv.gz',\n",
       " 'vmtable/vmtable.csv.gz',\n",
       " 'vmtable/vmtable.csv.gz',\n",
       " 'vmtable/vmtable.csv.gz',\n",
       " 'vmtable/vmtable.csv.gz',\n",
       " 'vmtable/vmtable.csv.gz',\n",
       " 'vmtable/vmtable.csv.gz',\n",
       " 'vmtable/vmtable.csv.gz',\n",
       " 'vm_cpu_readings/vm_cpu_readings-file-*-of-195.csv.gz',\n",
       " 'vm_cpu_readings/vm_cpu_readings-file-*-of-195.csv.gz',\n",
       " 'vm_cpu_readings/vm_cpu_readings-file-*-of-195.csv.gz',\n",
       " 'vm_cpu_readings/vm_cpu_readings-file-*-of-195.csv.gz',\n",
       " 'vm_cpu_readings/vm_cpu_readings-file-*-of-195.csv.gz']"
      ]
     },
     "execution_count": 12,
     "metadata": {},
     "output_type": "execute_result"
    }
   ],
   "source": [
    "filePatterns"
   ]
  },
  {
   "cell_type": "code",
   "execution_count": 13,
   "metadata": {},
   "outputs": [],
   "source": [
    "# 9-19\n",
    "VmtableData = content[9:20]\n",
    "VmtableColumnName = VmtableData\n"
   ]
  },
  {
   "cell_type": "code",
   "execution_count": 14,
   "metadata": {
    "scrolled": true
   },
   "outputs": [
    {
     "data": {
      "text/html": [
       "<div>\n",
       "<style scoped>\n",
       "    .dataframe tbody tr th:only-of-type {\n",
       "        vertical-align: middle;\n",
       "    }\n",
       "\n",
       "    .dataframe tbody tr th {\n",
       "        vertical-align: top;\n",
       "    }\n",
       "\n",
       "    .dataframe thead th {\n",
       "        text-align: right;\n",
       "    }\n",
       "</style>\n",
       "<table border=\"1\" class=\"dataframe\">\n",
       "  <thead>\n",
       "    <tr style=\"text-align: right;\">\n",
       "      <th></th>\n",
       "      <th>vm id</th>\n",
       "      <th>subscription id</th>\n",
       "      <th>deployment id</th>\n",
       "      <th>timestamp vm created</th>\n",
       "      <th>timestamp vm deleted</th>\n",
       "      <th>max cpu</th>\n",
       "      <th>avg cpu</th>\n",
       "      <th>p95 max cpu</th>\n",
       "      <th>vm category</th>\n",
       "      <th>vm virtual core count bucket</th>\n",
       "      <th>vm memory (gb) bucket</th>\n",
       "    </tr>\n",
       "  </thead>\n",
       "  <tbody>\n",
       "    <tr>\n",
       "      <th>0</th>\n",
       "      <td>71fJw0x+SDRdAxKPwLyHZhTgQpYw2afS6tjJhfT6kHnmLH...</td>\n",
       "      <td>GB6uQC1NSArW5n+TtOybL7GQ1yByjuWtZnsj+5QccZ525R...</td>\n",
       "      <td>2sh/ZjaYdfpslv4iYBfNzFe4rs982kHVvNGJGeQ8MIBCDr...</td>\n",
       "      <td>558300</td>\n",
       "      <td>1673700</td>\n",
       "      <td>91.776885</td>\n",
       "      <td>0.728879</td>\n",
       "      <td>20.759630</td>\n",
       "      <td>Delay-insensitive</td>\n",
       "      <td>8</td>\n",
       "      <td>32</td>\n",
       "    </tr>\n",
       "    <tr>\n",
       "      <th>1</th>\n",
       "      <td>rKggHO/04j31UFy65mDTwtjdMQL/G03xWfl3xGeiilB4/W...</td>\n",
       "      <td>ub4ty8ygwOECrIz7eaZ/9hDwnCsERvZ3nJJ03sDSpD85et...</td>\n",
       "      <td>+ZraIDUNaWYDZMBiBtZm7xSjr+j3zcHGjup1+wyKxHFmyJ...</td>\n",
       "      <td>424500</td>\n",
       "      <td>425400</td>\n",
       "      <td>37.879261</td>\n",
       "      <td>3.325358</td>\n",
       "      <td>37.879261</td>\n",
       "      <td>Unknown</td>\n",
       "      <td>4</td>\n",
       "      <td>32</td>\n",
       "    </tr>\n",
       "    <tr>\n",
       "      <th>2</th>\n",
       "      <td>YrR8gPtBmfNaOdnNEW5If1SdTqQgGQHEnLHGPjySt53bKW...</td>\n",
       "      <td>9LrdYRcUfGbmL2fFfLR/JUg2OTkjGRe3iluwIhDRPnPDPa...</td>\n",
       "      <td>GEyIElfPSFupze8T+T1niQMepeqG88VpLNuxUMyIDbz8VF...</td>\n",
       "      <td>1133100</td>\n",
       "      <td>1133700</td>\n",
       "      <td>0.304368</td>\n",
       "      <td>0.220553</td>\n",
       "      <td>0.304368</td>\n",
       "      <td>Unknown</td>\n",
       "      <td>4</td>\n",
       "      <td>32</td>\n",
       "    </tr>\n",
       "    <tr>\n",
       "      <th>3</th>\n",
       "      <td>xzQ++JF1UAkh70CDhmzkiOo+DQn+E2TLErCFKEmSswv1pl...</td>\n",
       "      <td>0XnZZ8sMN5HY+Yg+0dykYB5oenlgsrCpzpgFSvn/MX42Ze...</td>\n",
       "      <td>7aCQS6fPUw9rwCPiqvghk/WCEbMV3KgNJjA+sssdfY5Ybl...</td>\n",
       "      <td>0</td>\n",
       "      <td>2591400</td>\n",
       "      <td>98.573424</td>\n",
       "      <td>30.340054</td>\n",
       "      <td>98.212503</td>\n",
       "      <td>Interactive</td>\n",
       "      <td>2</td>\n",
       "      <td>4</td>\n",
       "    </tr>\n",
       "    <tr>\n",
       "      <th>4</th>\n",
       "      <td>vZEivnhabRmImDr+JqKqZnpIM3WxtypwoxjfjnklR/idyR...</td>\n",
       "      <td>HUGaZ+piPP4eHjycCBki2yq0raJywdzrVuriR6nQceH3hA...</td>\n",
       "      <td>/s/D5VtTQDxyS6wq7N/VQAMczx61Ny1Ut3a3iFmDSOCXxp...</td>\n",
       "      <td>228300</td>\n",
       "      <td>229800</td>\n",
       "      <td>82.581449</td>\n",
       "      <td>13.876299</td>\n",
       "      <td>82.581449</td>\n",
       "      <td>Unknown</td>\n",
       "      <td>2</td>\n",
       "      <td>4</td>\n",
       "    </tr>\n",
       "    <tr>\n",
       "      <th>...</th>\n",
       "      <td>...</td>\n",
       "      <td>...</td>\n",
       "      <td>...</td>\n",
       "      <td>...</td>\n",
       "      <td>...</td>\n",
       "      <td>...</td>\n",
       "      <td>...</td>\n",
       "      <td>...</td>\n",
       "      <td>...</td>\n",
       "      <td>...</td>\n",
       "      <td>...</td>\n",
       "    </tr>\n",
       "    <tr>\n",
       "      <th>2695543</th>\n",
       "      <td>CfZn37rcUvC4sVjWik6yIutOzNfno3c4dg6eIoqpaSE8P8...</td>\n",
       "      <td>5zIKLXAWdyG8bQWPX+g0Zc4RjQlOYj2lQqhv4HSZobgILo...</td>\n",
       "      <td>sB0KxCqfKVBclkgO327x9TDml4StRtgTC1WTMWvRtDUdIm...</td>\n",
       "      <td>141300</td>\n",
       "      <td>145200</td>\n",
       "      <td>95.902013</td>\n",
       "      <td>76.232801</td>\n",
       "      <td>95.902013</td>\n",
       "      <td>Unknown</td>\n",
       "      <td>4</td>\n",
       "      <td>32</td>\n",
       "    </tr>\n",
       "    <tr>\n",
       "      <th>2695544</th>\n",
       "      <td>D5jsQPZSlO+KakH/yp7bPV5hrKPhyxMrh0WAzMVarUDFpf...</td>\n",
       "      <td>HD4yDQaGa1Yah7WxdgJ6vXIS2/ssrcQ/zYyZ9ZIX/2kMOs...</td>\n",
       "      <td>dVoT1JKlL3DDuEvSOLYeDW/HAuNR4XfrfIs71b79zW0+bT...</td>\n",
       "      <td>0</td>\n",
       "      <td>2591400</td>\n",
       "      <td>94.095362</td>\n",
       "      <td>5.845202</td>\n",
       "      <td>11.260807</td>\n",
       "      <td>Delay-insensitive</td>\n",
       "      <td>2</td>\n",
       "      <td>4</td>\n",
       "    </tr>\n",
       "    <tr>\n",
       "      <th>2695545</th>\n",
       "      <td>FP9Lf4/jjWgWl9HS80x1NoeFwOPhLQo1ACPgqjtBF3+z9L...</td>\n",
       "      <td>1wYls1fw1ahqoRuYgqTwW1CWwFCA+GhM8bUdE2ZnE3QEUi...</td>\n",
       "      <td>H7sClR+x5JuEla7XAQrY+ndhsycwQg/M3OuHdyyggOfVsG...</td>\n",
       "      <td>1744800</td>\n",
       "      <td>1802700</td>\n",
       "      <td>96.197271</td>\n",
       "      <td>12.361066</td>\n",
       "      <td>88.992556</td>\n",
       "      <td>Unknown</td>\n",
       "      <td>2</td>\n",
       "      <td>4</td>\n",
       "    </tr>\n",
       "    <tr>\n",
       "      <th>2695546</th>\n",
       "      <td>thW1eyboLMZJy6GgeCIpLllRfqn0q7JgDYarlC9Jm5tg6i...</td>\n",
       "      <td>T5YgbHHsKY6pX+pei3XcWWpIvtVWWkZQFnMYy4VtXV0riR...</td>\n",
       "      <td>/M/NNfrx6jUC97ev+QgMyH6DyFdCcAerLZg+z/Bhenbedn...</td>\n",
       "      <td>387000</td>\n",
       "      <td>387600</td>\n",
       "      <td>44.266935</td>\n",
       "      <td>13.089638</td>\n",
       "      <td>44.266935</td>\n",
       "      <td>Unknown</td>\n",
       "      <td>4</td>\n",
       "      <td>8</td>\n",
       "    </tr>\n",
       "    <tr>\n",
       "      <th>2695547</th>\n",
       "      <td>TqMw/UmeYGTWCvWBdL+yIw6+Pz3Vzj/OgIZNepu3scPY94...</td>\n",
       "      <td>WNT54pOWDfmglyHABHm850c29ivpM+8HMdB9XSU4krSlh1...</td>\n",
       "      <td>gw5l9LL9y6/eO3ydPV9Bbd0L/PcchKCX9Pb4Qx+MIpsYCI...</td>\n",
       "      <td>1300500</td>\n",
       "      <td>1301100</td>\n",
       "      <td>0.108262</td>\n",
       "      <td>0.034763</td>\n",
       "      <td>0.108262</td>\n",
       "      <td>Unknown</td>\n",
       "      <td>4</td>\n",
       "      <td>32</td>\n",
       "    </tr>\n",
       "  </tbody>\n",
       "</table>\n",
       "<p>2695548 rows × 11 columns</p>\n",
       "</div>"
      ],
      "text/plain": [
       "                                                     vm id  \\\n",
       "0        71fJw0x+SDRdAxKPwLyHZhTgQpYw2afS6tjJhfT6kHnmLH...   \n",
       "1        rKggHO/04j31UFy65mDTwtjdMQL/G03xWfl3xGeiilB4/W...   \n",
       "2        YrR8gPtBmfNaOdnNEW5If1SdTqQgGQHEnLHGPjySt53bKW...   \n",
       "3        xzQ++JF1UAkh70CDhmzkiOo+DQn+E2TLErCFKEmSswv1pl...   \n",
       "4        vZEivnhabRmImDr+JqKqZnpIM3WxtypwoxjfjnklR/idyR...   \n",
       "...                                                    ...   \n",
       "2695543  CfZn37rcUvC4sVjWik6yIutOzNfno3c4dg6eIoqpaSE8P8...   \n",
       "2695544  D5jsQPZSlO+KakH/yp7bPV5hrKPhyxMrh0WAzMVarUDFpf...   \n",
       "2695545  FP9Lf4/jjWgWl9HS80x1NoeFwOPhLQo1ACPgqjtBF3+z9L...   \n",
       "2695546  thW1eyboLMZJy6GgeCIpLllRfqn0q7JgDYarlC9Jm5tg6i...   \n",
       "2695547  TqMw/UmeYGTWCvWBdL+yIw6+Pz3Vzj/OgIZNepu3scPY94...   \n",
       "\n",
       "                                           subscription id  \\\n",
       "0        GB6uQC1NSArW5n+TtOybL7GQ1yByjuWtZnsj+5QccZ525R...   \n",
       "1        ub4ty8ygwOECrIz7eaZ/9hDwnCsERvZ3nJJ03sDSpD85et...   \n",
       "2        9LrdYRcUfGbmL2fFfLR/JUg2OTkjGRe3iluwIhDRPnPDPa...   \n",
       "3        0XnZZ8sMN5HY+Yg+0dykYB5oenlgsrCpzpgFSvn/MX42Ze...   \n",
       "4        HUGaZ+piPP4eHjycCBki2yq0raJywdzrVuriR6nQceH3hA...   \n",
       "...                                                    ...   \n",
       "2695543  5zIKLXAWdyG8bQWPX+g0Zc4RjQlOYj2lQqhv4HSZobgILo...   \n",
       "2695544  HD4yDQaGa1Yah7WxdgJ6vXIS2/ssrcQ/zYyZ9ZIX/2kMOs...   \n",
       "2695545  1wYls1fw1ahqoRuYgqTwW1CWwFCA+GhM8bUdE2ZnE3QEUi...   \n",
       "2695546  T5YgbHHsKY6pX+pei3XcWWpIvtVWWkZQFnMYy4VtXV0riR...   \n",
       "2695547  WNT54pOWDfmglyHABHm850c29ivpM+8HMdB9XSU4krSlh1...   \n",
       "\n",
       "                                             deployment id  \\\n",
       "0        2sh/ZjaYdfpslv4iYBfNzFe4rs982kHVvNGJGeQ8MIBCDr...   \n",
       "1        +ZraIDUNaWYDZMBiBtZm7xSjr+j3zcHGjup1+wyKxHFmyJ...   \n",
       "2        GEyIElfPSFupze8T+T1niQMepeqG88VpLNuxUMyIDbz8VF...   \n",
       "3        7aCQS6fPUw9rwCPiqvghk/WCEbMV3KgNJjA+sssdfY5Ybl...   \n",
       "4        /s/D5VtTQDxyS6wq7N/VQAMczx61Ny1Ut3a3iFmDSOCXxp...   \n",
       "...                                                    ...   \n",
       "2695543  sB0KxCqfKVBclkgO327x9TDml4StRtgTC1WTMWvRtDUdIm...   \n",
       "2695544  dVoT1JKlL3DDuEvSOLYeDW/HAuNR4XfrfIs71b79zW0+bT...   \n",
       "2695545  H7sClR+x5JuEla7XAQrY+ndhsycwQg/M3OuHdyyggOfVsG...   \n",
       "2695546  /M/NNfrx6jUC97ev+QgMyH6DyFdCcAerLZg+z/Bhenbedn...   \n",
       "2695547  gw5l9LL9y6/eO3ydPV9Bbd0L/PcchKCX9Pb4Qx+MIpsYCI...   \n",
       "\n",
       "         timestamp vm created  timestamp vm deleted    max cpu    avg cpu  \\\n",
       "0                      558300               1673700  91.776885   0.728879   \n",
       "1                      424500                425400  37.879261   3.325358   \n",
       "2                     1133100               1133700   0.304368   0.220553   \n",
       "3                           0               2591400  98.573424  30.340054   \n",
       "4                      228300                229800  82.581449  13.876299   \n",
       "...                       ...                   ...        ...        ...   \n",
       "2695543                141300                145200  95.902013  76.232801   \n",
       "2695544                     0               2591400  94.095362   5.845202   \n",
       "2695545               1744800               1802700  96.197271  12.361066   \n",
       "2695546                387000                387600  44.266935  13.089638   \n",
       "2695547               1300500               1301100   0.108262   0.034763   \n",
       "\n",
       "         p95 max cpu        vm category vm virtual core count bucket  \\\n",
       "0          20.759630  Delay-insensitive                            8   \n",
       "1          37.879261            Unknown                            4   \n",
       "2           0.304368            Unknown                            4   \n",
       "3          98.212503        Interactive                            2   \n",
       "4          82.581449            Unknown                            2   \n",
       "...              ...                ...                          ...   \n",
       "2695543    95.902013            Unknown                            4   \n",
       "2695544    11.260807  Delay-insensitive                            2   \n",
       "2695545    88.992556            Unknown                            2   \n",
       "2695546    44.266935            Unknown                            4   \n",
       "2695547     0.108262            Unknown                            4   \n",
       "\n",
       "        vm memory (gb) bucket  \n",
       "0                          32  \n",
       "1                          32  \n",
       "2                          32  \n",
       "3                           4  \n",
       "4                           4  \n",
       "...                       ...  \n",
       "2695543                    32  \n",
       "2695544                     4  \n",
       "2695545                     4  \n",
       "2695546                     8  \n",
       "2695547                    32  \n",
       "\n",
       "[2695548 rows x 11 columns]"
      ]
     },
     "execution_count": 14,
     "metadata": {},
     "output_type": "execute_result"
    }
   ],
   "source": [
    "dfVMTable.columns = VmtableColumnName\n",
    "dfVMTable"
   ]
  },
  {
   "cell_type": "code",
   "execution_count": 15,
   "metadata": {},
   "outputs": [
    {
     "data": {
      "text/plain": [
       "['timestamp', 'vm id', 'min cpu', 'max cpu', 'avg cpu']"
      ]
     },
     "execution_count": 15,
     "metadata": {},
     "output_type": "execute_result"
    }
   ],
   "source": [
    "dfSchema\n",
    "\n",
    "dataColumnNames = content[20:]\n",
    "dataColumnNames"
   ]
  },
  {
   "cell_type": "code",
   "execution_count": 16,
   "metadata": {},
   "outputs": [],
   "source": [
    "df_Data.columns = dataColumnNames"
   ]
  },
  {
   "cell_type": "code",
   "execution_count": 17,
   "metadata": {},
   "outputs": [
    {
     "data": {
      "text/html": [
       "<div>\n",
       "<style scoped>\n",
       "    .dataframe tbody tr th:only-of-type {\n",
       "        vertical-align: middle;\n",
       "    }\n",
       "\n",
       "    .dataframe tbody tr th {\n",
       "        vertical-align: top;\n",
       "    }\n",
       "\n",
       "    .dataframe thead th {\n",
       "        text-align: right;\n",
       "    }\n",
       "</style>\n",
       "<table border=\"1\" class=\"dataframe\">\n",
       "  <thead>\n",
       "    <tr style=\"text-align: right;\">\n",
       "      <th></th>\n",
       "      <th>timestamp</th>\n",
       "      <th>vm id</th>\n",
       "      <th>min cpu</th>\n",
       "      <th>max cpu</th>\n",
       "      <th>avg cpu</th>\n",
       "    </tr>\n",
       "  </thead>\n",
       "  <tbody>\n",
       "    <tr>\n",
       "      <th>0</th>\n",
       "      <td>0</td>\n",
       "      <td>yNf/R3X8fyXkOJm3ihXQcT0F52a8cDWPPRzTT6QFW8N+1Q...</td>\n",
       "      <td>19.898441</td>\n",
       "      <td>24.996361</td>\n",
       "      <td>22.630673</td>\n",
       "    </tr>\n",
       "    <tr>\n",
       "      <th>1</th>\n",
       "      <td>0</td>\n",
       "      <td>gVb4X4iS13nJrM0KZsy7SrHzWAHix0CEPlK7/deV5vkwjt...</td>\n",
       "      <td>14.281488</td>\n",
       "      <td>20.028324</td>\n",
       "      <td>17.250655</td>\n",
       "    </tr>\n",
       "    <tr>\n",
       "      <th>2</th>\n",
       "      <td>0</td>\n",
       "      <td>f8BtQHczrXFjnVxWl8Hqm1kH9UD/8nCvtXCLiFvVRvamqa...</td>\n",
       "      <td>1.655368</td>\n",
       "      <td>23.138685</td>\n",
       "      <td>8.533818</td>\n",
       "    </tr>\n",
       "    <tr>\n",
       "      <th>3</th>\n",
       "      <td>0</td>\n",
       "      <td>8xjtVrJRJAyArNlbRgCftoNQOZiWl2eRP6uQavL9+6IULT...</td>\n",
       "      <td>47.501061</td>\n",
       "      <td>52.940579</td>\n",
       "      <td>50.045584</td>\n",
       "    </tr>\n",
       "    <tr>\n",
       "      <th>4</th>\n",
       "      <td>0</td>\n",
       "      <td>zTE3f0H2n43tW+PA3OdonjUTWWxeyzF7xJk9QH9s/487J/...</td>\n",
       "      <td>1.724155</td>\n",
       "      <td>12.889580</td>\n",
       "      <td>4.833578</td>\n",
       "    </tr>\n",
       "  </tbody>\n",
       "</table>\n",
       "</div>"
      ],
      "text/plain": [
       "   timestamp                                              vm id    min cpu  \\\n",
       "0          0  yNf/R3X8fyXkOJm3ihXQcT0F52a8cDWPPRzTT6QFW8N+1Q...  19.898441   \n",
       "1          0  gVb4X4iS13nJrM0KZsy7SrHzWAHix0CEPlK7/deV5vkwjt...  14.281488   \n",
       "2          0  f8BtQHczrXFjnVxWl8Hqm1kH9UD/8nCvtXCLiFvVRvamqa...   1.655368   \n",
       "3          0  8xjtVrJRJAyArNlbRgCftoNQOZiWl2eRP6uQavL9+6IULT...  47.501061   \n",
       "4          0  zTE3f0H2n43tW+PA3OdonjUTWWxeyzF7xJk9QH9s/487J/...   1.724155   \n",
       "\n",
       "     max cpu    avg cpu  \n",
       "0  24.996361  22.630673  \n",
       "1  20.028324  17.250655  \n",
       "2  23.138685   8.533818  \n",
       "3  52.940579  50.045584  \n",
       "4  12.889580   4.833578  "
      ]
     },
     "execution_count": 17,
     "metadata": {},
     "output_type": "execute_result"
    }
   ],
   "source": [
    "df_Data.head(5)"
   ]
  },
  {
   "cell_type": "code",
   "execution_count": 18,
   "metadata": {},
   "outputs": [],
   "source": [
    "merged = pd.merge(df_Data,dfVMTable, on = 'vm id')"
   ]
  },
  {
   "cell_type": "code",
   "execution_count": 19,
   "metadata": {},
   "outputs": [
    {
     "data": {
      "text/html": [
       "<div>\n",
       "<style scoped>\n",
       "    .dataframe tbody tr th:only-of-type {\n",
       "        vertical-align: middle;\n",
       "    }\n",
       "\n",
       "    .dataframe tbody tr th {\n",
       "        vertical-align: top;\n",
       "    }\n",
       "\n",
       "    .dataframe thead th {\n",
       "        text-align: right;\n",
       "    }\n",
       "</style>\n",
       "<table border=\"1\" class=\"dataframe\">\n",
       "  <thead>\n",
       "    <tr style=\"text-align: right;\">\n",
       "      <th></th>\n",
       "      <th>timestamp</th>\n",
       "      <th>vm id</th>\n",
       "      <th>min cpu</th>\n",
       "      <th>max cpu_x</th>\n",
       "      <th>avg cpu_x</th>\n",
       "      <th>subscription id</th>\n",
       "      <th>deployment id</th>\n",
       "      <th>timestamp vm created</th>\n",
       "      <th>timestamp vm deleted</th>\n",
       "      <th>max cpu_y</th>\n",
       "      <th>avg cpu_y</th>\n",
       "      <th>p95 max cpu</th>\n",
       "      <th>vm category</th>\n",
       "      <th>vm virtual core count bucket</th>\n",
       "      <th>vm memory (gb) bucket</th>\n",
       "    </tr>\n",
       "  </thead>\n",
       "  <tbody>\n",
       "    <tr>\n",
       "      <th>0</th>\n",
       "      <td>0</td>\n",
       "      <td>yNf/R3X8fyXkOJm3ihXQcT0F52a8cDWPPRzTT6QFW8N+1Q...</td>\n",
       "      <td>19.898441</td>\n",
       "      <td>24.996361</td>\n",
       "      <td>22.630673</td>\n",
       "      <td>GStyJfehx9FBLRCvqDxCk4Hpxi8bLCol58JJyfnuSEvH4N...</td>\n",
       "      <td>RGHDvmXwj8cETX3k68dVVukX9cnPNMYn6VjPbcvSKKQOxG...</td>\n",
       "      <td>0</td>\n",
       "      <td>963900</td>\n",
       "      <td>80.105755</td>\n",
       "      <td>13.641498</td>\n",
       "      <td>47.415849</td>\n",
       "      <td>Interactive</td>\n",
       "      <td>2</td>\n",
       "      <td>2</td>\n",
       "    </tr>\n",
       "    <tr>\n",
       "      <th>1</th>\n",
       "      <td>300</td>\n",
       "      <td>yNf/R3X8fyXkOJm3ihXQcT0F52a8cDWPPRzTT6QFW8N+1Q...</td>\n",
       "      <td>19.731396</td>\n",
       "      <td>24.728261</td>\n",
       "      <td>22.544654</td>\n",
       "      <td>GStyJfehx9FBLRCvqDxCk4Hpxi8bLCol58JJyfnuSEvH4N...</td>\n",
       "      <td>RGHDvmXwj8cETX3k68dVVukX9cnPNMYn6VjPbcvSKKQOxG...</td>\n",
       "      <td>0</td>\n",
       "      <td>963900</td>\n",
       "      <td>80.105755</td>\n",
       "      <td>13.641498</td>\n",
       "      <td>47.415849</td>\n",
       "      <td>Interactive</td>\n",
       "      <td>2</td>\n",
       "      <td>2</td>\n",
       "    </tr>\n",
       "    <tr>\n",
       "      <th>2</th>\n",
       "      <td>600</td>\n",
       "      <td>yNf/R3X8fyXkOJm3ihXQcT0F52a8cDWPPRzTT6QFW8N+1Q...</td>\n",
       "      <td>19.700274</td>\n",
       "      <td>24.687945</td>\n",
       "      <td>22.197565</td>\n",
       "      <td>GStyJfehx9FBLRCvqDxCk4Hpxi8bLCol58JJyfnuSEvH4N...</td>\n",
       "      <td>RGHDvmXwj8cETX3k68dVVukX9cnPNMYn6VjPbcvSKKQOxG...</td>\n",
       "      <td>0</td>\n",
       "      <td>963900</td>\n",
       "      <td>80.105755</td>\n",
       "      <td>13.641498</td>\n",
       "      <td>47.415849</td>\n",
       "      <td>Interactive</td>\n",
       "      <td>2</td>\n",
       "      <td>2</td>\n",
       "    </tr>\n",
       "    <tr>\n",
       "      <th>3</th>\n",
       "      <td>900</td>\n",
       "      <td>yNf/R3X8fyXkOJm3ihXQcT0F52a8cDWPPRzTT6QFW8N+1Q...</td>\n",
       "      <td>19.840811</td>\n",
       "      <td>24.943253</td>\n",
       "      <td>22.647016</td>\n",
       "      <td>GStyJfehx9FBLRCvqDxCk4Hpxi8bLCol58JJyfnuSEvH4N...</td>\n",
       "      <td>RGHDvmXwj8cETX3k68dVVukX9cnPNMYn6VjPbcvSKKQOxG...</td>\n",
       "      <td>0</td>\n",
       "      <td>963900</td>\n",
       "      <td>80.105755</td>\n",
       "      <td>13.641498</td>\n",
       "      <td>47.415849</td>\n",
       "      <td>Interactive</td>\n",
       "      <td>2</td>\n",
       "      <td>2</td>\n",
       "    </tr>\n",
       "    <tr>\n",
       "      <th>4</th>\n",
       "      <td>1200</td>\n",
       "      <td>yNf/R3X8fyXkOJm3ihXQcT0F52a8cDWPPRzTT6QFW8N+1Q...</td>\n",
       "      <td>19.884833</td>\n",
       "      <td>24.565042</td>\n",
       "      <td>22.610745</td>\n",
       "      <td>GStyJfehx9FBLRCvqDxCk4Hpxi8bLCol58JJyfnuSEvH4N...</td>\n",
       "      <td>RGHDvmXwj8cETX3k68dVVukX9cnPNMYn6VjPbcvSKKQOxG...</td>\n",
       "      <td>0</td>\n",
       "      <td>963900</td>\n",
       "      <td>80.105755</td>\n",
       "      <td>13.641498</td>\n",
       "      <td>47.415849</td>\n",
       "      <td>Interactive</td>\n",
       "      <td>2</td>\n",
       "      <td>2</td>\n",
       "    </tr>\n",
       "    <tr>\n",
       "      <th>...</th>\n",
       "      <td>...</td>\n",
       "      <td>...</td>\n",
       "      <td>...</td>\n",
       "      <td>...</td>\n",
       "      <td>...</td>\n",
       "      <td>...</td>\n",
       "      <td>...</td>\n",
       "      <td>...</td>\n",
       "      <td>...</td>\n",
       "      <td>...</td>\n",
       "      <td>...</td>\n",
       "      <td>...</td>\n",
       "      <td>...</td>\n",
       "      <td>...</td>\n",
       "      <td>...</td>\n",
       "    </tr>\n",
       "    <tr>\n",
       "      <th>49999995</th>\n",
       "      <td>66600</td>\n",
       "      <td>eGGkt5KgpHgq3/eTD6MFDig9dmUu0Np3ZxwONIIbr/JJrp...</td>\n",
       "      <td>1.649812</td>\n",
       "      <td>27.748531</td>\n",
       "      <td>7.939188</td>\n",
       "      <td>ds99HKSApXKcwNCQeMxUl6pNwg5p1giOSIqzBGyPVGYYzg...</td>\n",
       "      <td>8Jst3IDxOcCdpsFlomPnNBWHXcDXmw5C+okO2mDL/8YLjP...</td>\n",
       "      <td>66600</td>\n",
       "      <td>66900</td>\n",
       "      <td>58.397988</td>\n",
       "      <td>6.391006</td>\n",
       "      <td>58.397988</td>\n",
       "      <td>Unknown</td>\n",
       "      <td>8</td>\n",
       "      <td>32</td>\n",
       "    </tr>\n",
       "    <tr>\n",
       "      <th>49999996</th>\n",
       "      <td>66600</td>\n",
       "      <td>CD2QfFma//1gKkr1Q6IpPhWRSeFndwLekf5NP/v7VgTzjs...</td>\n",
       "      <td>0.100357</td>\n",
       "      <td>48.415255</td>\n",
       "      <td>6.750317</td>\n",
       "      <td>ds99HKSApXKcwNCQeMxUl6pNwg5p1giOSIqzBGyPVGYYzg...</td>\n",
       "      <td>8Jst3IDxOcCdpsFlomPnNBWHXcDXmw5C+okO2mDL/8YLjP...</td>\n",
       "      <td>66600</td>\n",
       "      <td>66600</td>\n",
       "      <td>48.415255</td>\n",
       "      <td>6.750317</td>\n",
       "      <td>48.415255</td>\n",
       "      <td>Unknown</td>\n",
       "      <td>8</td>\n",
       "      <td>32</td>\n",
       "    </tr>\n",
       "    <tr>\n",
       "      <th>49999997</th>\n",
       "      <td>66600</td>\n",
       "      <td>822NVSqymAKC+Y5jtuMq7y4DbM6sJ8jea1ecb1beFzMwPa...</td>\n",
       "      <td>9.263787</td>\n",
       "      <td>71.700235</td>\n",
       "      <td>22.976231</td>\n",
       "      <td>wA+NjFBhsKDx+8aBOS/6S1q0poOnhIjD8c8SswoR9isthg...</td>\n",
       "      <td>0Kj50+yzaaJ1lVYZISpt8OkEnAiE1Li8HaUSAI3OL/J6C+...</td>\n",
       "      <td>66600</td>\n",
       "      <td>68400</td>\n",
       "      <td>94.694635</td>\n",
       "      <td>56.852069</td>\n",
       "      <td>94.694635</td>\n",
       "      <td>Unknown</td>\n",
       "      <td>2</td>\n",
       "      <td>8</td>\n",
       "    </tr>\n",
       "    <tr>\n",
       "      <th>49999998</th>\n",
       "      <td>66600</td>\n",
       "      <td>w1MmX80UOGKecQoL1A3FfL4KS2bdZB+UlmzSK+hkhxV5pF...</td>\n",
       "      <td>7.416047</td>\n",
       "      <td>8.798213</td>\n",
       "      <td>8.107130</td>\n",
       "      <td>Nvw+lGVR5a4F/7qBGI9rXeLJXMl+35SFvwL0Bxx7tzhlQd...</td>\n",
       "      <td>CifBfs1+WDvz2iWTp0LUeO+6E0PGOL2TPKtcdWQdeXJ2mX...</td>\n",
       "      <td>66600</td>\n",
       "      <td>68400</td>\n",
       "      <td>33.688624</td>\n",
       "      <td>7.163168</td>\n",
       "      <td>33.688624</td>\n",
       "      <td>Unknown</td>\n",
       "      <td>2</td>\n",
       "      <td>4</td>\n",
       "    </tr>\n",
       "    <tr>\n",
       "      <th>49999999</th>\n",
       "      <td>66600</td>\n",
       "      <td>nRfpGaraO51M9P5yb4qafmjBv5DXJY2YTj96HqLN/2+lnP...</td>\n",
       "      <td>86.448367</td>\n",
       "      <td>95.443924</td>\n",
       "      <td>90.868869</td>\n",
       "      <td>U2lMzDTXV5wCcQ3VFXkhYF7wley/lOKJMLNfk8uPr2l7dd...</td>\n",
       "      <td>pThm4uqPp6WZkLqhetnocecOIbKlkYETxkIVpeYFcZd60c...</td>\n",
       "      <td>66600</td>\n",
       "      <td>114600</td>\n",
       "      <td>96.971038</td>\n",
       "      <td>78.140934</td>\n",
       "      <td>96.525933</td>\n",
       "      <td>Unknown</td>\n",
       "      <td>4</td>\n",
       "      <td>32</td>\n",
       "    </tr>\n",
       "  </tbody>\n",
       "</table>\n",
       "<p>50000000 rows × 15 columns</p>\n",
       "</div>"
      ],
      "text/plain": [
       "          timestamp                                              vm id  \\\n",
       "0                 0  yNf/R3X8fyXkOJm3ihXQcT0F52a8cDWPPRzTT6QFW8N+1Q...   \n",
       "1               300  yNf/R3X8fyXkOJm3ihXQcT0F52a8cDWPPRzTT6QFW8N+1Q...   \n",
       "2               600  yNf/R3X8fyXkOJm3ihXQcT0F52a8cDWPPRzTT6QFW8N+1Q...   \n",
       "3               900  yNf/R3X8fyXkOJm3ihXQcT0F52a8cDWPPRzTT6QFW8N+1Q...   \n",
       "4              1200  yNf/R3X8fyXkOJm3ihXQcT0F52a8cDWPPRzTT6QFW8N+1Q...   \n",
       "...             ...                                                ...   \n",
       "49999995      66600  eGGkt5KgpHgq3/eTD6MFDig9dmUu0Np3ZxwONIIbr/JJrp...   \n",
       "49999996      66600  CD2QfFma//1gKkr1Q6IpPhWRSeFndwLekf5NP/v7VgTzjs...   \n",
       "49999997      66600  822NVSqymAKC+Y5jtuMq7y4DbM6sJ8jea1ecb1beFzMwPa...   \n",
       "49999998      66600  w1MmX80UOGKecQoL1A3FfL4KS2bdZB+UlmzSK+hkhxV5pF...   \n",
       "49999999      66600  nRfpGaraO51M9P5yb4qafmjBv5DXJY2YTj96HqLN/2+lnP...   \n",
       "\n",
       "            min cpu  max cpu_x  avg cpu_x  \\\n",
       "0         19.898441  24.996361  22.630673   \n",
       "1         19.731396  24.728261  22.544654   \n",
       "2         19.700274  24.687945  22.197565   \n",
       "3         19.840811  24.943253  22.647016   \n",
       "4         19.884833  24.565042  22.610745   \n",
       "...             ...        ...        ...   \n",
       "49999995   1.649812  27.748531   7.939188   \n",
       "49999996   0.100357  48.415255   6.750317   \n",
       "49999997   9.263787  71.700235  22.976231   \n",
       "49999998   7.416047   8.798213   8.107130   \n",
       "49999999  86.448367  95.443924  90.868869   \n",
       "\n",
       "                                            subscription id  \\\n",
       "0         GStyJfehx9FBLRCvqDxCk4Hpxi8bLCol58JJyfnuSEvH4N...   \n",
       "1         GStyJfehx9FBLRCvqDxCk4Hpxi8bLCol58JJyfnuSEvH4N...   \n",
       "2         GStyJfehx9FBLRCvqDxCk4Hpxi8bLCol58JJyfnuSEvH4N...   \n",
       "3         GStyJfehx9FBLRCvqDxCk4Hpxi8bLCol58JJyfnuSEvH4N...   \n",
       "4         GStyJfehx9FBLRCvqDxCk4Hpxi8bLCol58JJyfnuSEvH4N...   \n",
       "...                                                     ...   \n",
       "49999995  ds99HKSApXKcwNCQeMxUl6pNwg5p1giOSIqzBGyPVGYYzg...   \n",
       "49999996  ds99HKSApXKcwNCQeMxUl6pNwg5p1giOSIqzBGyPVGYYzg...   \n",
       "49999997  wA+NjFBhsKDx+8aBOS/6S1q0poOnhIjD8c8SswoR9isthg...   \n",
       "49999998  Nvw+lGVR5a4F/7qBGI9rXeLJXMl+35SFvwL0Bxx7tzhlQd...   \n",
       "49999999  U2lMzDTXV5wCcQ3VFXkhYF7wley/lOKJMLNfk8uPr2l7dd...   \n",
       "\n",
       "                                              deployment id  \\\n",
       "0         RGHDvmXwj8cETX3k68dVVukX9cnPNMYn6VjPbcvSKKQOxG...   \n",
       "1         RGHDvmXwj8cETX3k68dVVukX9cnPNMYn6VjPbcvSKKQOxG...   \n",
       "2         RGHDvmXwj8cETX3k68dVVukX9cnPNMYn6VjPbcvSKKQOxG...   \n",
       "3         RGHDvmXwj8cETX3k68dVVukX9cnPNMYn6VjPbcvSKKQOxG...   \n",
       "4         RGHDvmXwj8cETX3k68dVVukX9cnPNMYn6VjPbcvSKKQOxG...   \n",
       "...                                                     ...   \n",
       "49999995  8Jst3IDxOcCdpsFlomPnNBWHXcDXmw5C+okO2mDL/8YLjP...   \n",
       "49999996  8Jst3IDxOcCdpsFlomPnNBWHXcDXmw5C+okO2mDL/8YLjP...   \n",
       "49999997  0Kj50+yzaaJ1lVYZISpt8OkEnAiE1Li8HaUSAI3OL/J6C+...   \n",
       "49999998  CifBfs1+WDvz2iWTp0LUeO+6E0PGOL2TPKtcdWQdeXJ2mX...   \n",
       "49999999  pThm4uqPp6WZkLqhetnocecOIbKlkYETxkIVpeYFcZd60c...   \n",
       "\n",
       "          timestamp vm created  timestamp vm deleted  max cpu_y  avg cpu_y  \\\n",
       "0                            0                963900  80.105755  13.641498   \n",
       "1                            0                963900  80.105755  13.641498   \n",
       "2                            0                963900  80.105755  13.641498   \n",
       "3                            0                963900  80.105755  13.641498   \n",
       "4                            0                963900  80.105755  13.641498   \n",
       "...                        ...                   ...        ...        ...   \n",
       "49999995                 66600                 66900  58.397988   6.391006   \n",
       "49999996                 66600                 66600  48.415255   6.750317   \n",
       "49999997                 66600                 68400  94.694635  56.852069   \n",
       "49999998                 66600                 68400  33.688624   7.163168   \n",
       "49999999                 66600                114600  96.971038  78.140934   \n",
       "\n",
       "          p95 max cpu  vm category vm virtual core count bucket  \\\n",
       "0           47.415849  Interactive                            2   \n",
       "1           47.415849  Interactive                            2   \n",
       "2           47.415849  Interactive                            2   \n",
       "3           47.415849  Interactive                            2   \n",
       "4           47.415849  Interactive                            2   \n",
       "...               ...          ...                          ...   \n",
       "49999995    58.397988      Unknown                            8   \n",
       "49999996    48.415255      Unknown                            8   \n",
       "49999997    94.694635      Unknown                            2   \n",
       "49999998    33.688624      Unknown                            2   \n",
       "49999999    96.525933      Unknown                            4   \n",
       "\n",
       "         vm memory (gb) bucket  \n",
       "0                            2  \n",
       "1                            2  \n",
       "2                            2  \n",
       "3                            2  \n",
       "4                            2  \n",
       "...                        ...  \n",
       "49999995                    32  \n",
       "49999996                    32  \n",
       "49999997                     8  \n",
       "49999998                     4  \n",
       "49999999                    32  \n",
       "\n",
       "[50000000 rows x 15 columns]"
      ]
     },
     "execution_count": 19,
     "metadata": {},
     "output_type": "execute_result"
    }
   ],
   "source": [
    "merged"
   ]
  },
  {
   "cell_type": "code",
   "execution_count": 20,
   "metadata": {},
   "outputs": [
    {
     "data": {
      "text/plain": [
       "50000000"
      ]
     },
     "execution_count": 20,
     "metadata": {},
     "output_type": "execute_result"
    }
   ],
   "source": [
    "len(df_Data)"
   ]
  },
  {
   "cell_type": "code",
   "execution_count": 21,
   "metadata": {},
   "outputs": [
    {
     "data": {
      "text/plain": [
       "2695548"
      ]
     },
     "execution_count": 21,
     "metadata": {},
     "output_type": "execute_result"
    }
   ],
   "source": [
    "len(dfVMTable)"
   ]
  },
  {
   "cell_type": "code",
   "execution_count": 22,
   "metadata": {},
   "outputs": [
    {
     "data": {
      "text/plain": [
       "50000000"
      ]
     },
     "execution_count": 22,
     "metadata": {},
     "output_type": "execute_result"
    }
   ],
   "source": [
    "len(merged)"
   ]
  },
  {
   "cell_type": "code",
   "execution_count": 131,
   "metadata": {},
   "outputs": [],
   "source": [
    "usedVM = merged[\"vm id\"].nunique()"
   ]
  },
  {
   "cell_type": "code",
   "execution_count": 132,
   "metadata": {},
   "outputs": [
    {
     "data": {
      "text/plain": [
       "241490"
      ]
     },
     "execution_count": 132,
     "metadata": {},
     "output_type": "execute_result"
    }
   ],
   "source": [
    "usedVM"
   ]
  },
  {
   "cell_type": "code",
   "execution_count": 133,
   "metadata": {},
   "outputs": [
    {
     "data": {
      "text/plain": [
       "Index(['timestamp', 'vm id', 'min cpu', 'max cpu_x', 'avg cpu_x',\n",
       "       'subscription id', 'deployment id', 'timestamp vm created',\n",
       "       'timestamp vm deleted', 'max cpu_y', 'avg cpu_y', 'p95 max cpu',\n",
       "       'vm category', 'vm virtual core count bucket', 'vm memory (gb) bucket'],\n",
       "      dtype='object')"
      ]
     },
     "execution_count": 133,
     "metadata": {},
     "output_type": "execute_result"
    }
   ],
   "source": [
    "merged.columns"
   ]
  },
  {
   "cell_type": "code",
   "execution_count": 23,
   "metadata": {},
   "outputs": [],
   "source": [
    "selectedFeatures = merged[[ \"vm id\", \"timestamp vm created\", \"timestamp vm deleted\",\"vm virtual core count bucket\", \"vm memory (gb) bucket\", \"vm category\"]]"
   ]
  },
  {
   "cell_type": "code",
   "execution_count": 37,
   "metadata": {},
   "outputs": [
    {
     "data": {
      "text/html": [
       "<div>\n",
       "<style scoped>\n",
       "    .dataframe tbody tr th:only-of-type {\n",
       "        vertical-align: middle;\n",
       "    }\n",
       "\n",
       "    .dataframe tbody tr th {\n",
       "        vertical-align: top;\n",
       "    }\n",
       "\n",
       "    .dataframe thead th {\n",
       "        text-align: right;\n",
       "    }\n",
       "</style>\n",
       "<table border=\"1\" class=\"dataframe\">\n",
       "  <thead>\n",
       "    <tr style=\"text-align: right;\">\n",
       "      <th></th>\n",
       "      <th>vm id</th>\n",
       "      <th>timestamp vm created</th>\n",
       "      <th>timestamp vm deleted</th>\n",
       "      <th>vm virtual core count bucket</th>\n",
       "      <th>vm memory (gb) bucket</th>\n",
       "      <th>lifeTime</th>\n",
       "    </tr>\n",
       "  </thead>\n",
       "  <tbody>\n",
       "    <tr>\n",
       "      <th>0</th>\n",
       "      <td>yNf/R3X8fyXkOJm3ihXQcT0F52a8cDWPPRzTT6QFW8N+1Q...</td>\n",
       "      <td>0</td>\n",
       "      <td>963900</td>\n",
       "      <td>2</td>\n",
       "      <td>2</td>\n",
       "      <td>267.750000</td>\n",
       "    </tr>\n",
       "    <tr>\n",
       "      <th>1</th>\n",
       "      <td>yNf/R3X8fyXkOJm3ihXQcT0F52a8cDWPPRzTT6QFW8N+1Q...</td>\n",
       "      <td>0</td>\n",
       "      <td>963900</td>\n",
       "      <td>2</td>\n",
       "      <td>2</td>\n",
       "      <td>267.750000</td>\n",
       "    </tr>\n",
       "    <tr>\n",
       "      <th>2</th>\n",
       "      <td>yNf/R3X8fyXkOJm3ihXQcT0F52a8cDWPPRzTT6QFW8N+1Q...</td>\n",
       "      <td>0</td>\n",
       "      <td>963900</td>\n",
       "      <td>2</td>\n",
       "      <td>2</td>\n",
       "      <td>267.750000</td>\n",
       "    </tr>\n",
       "    <tr>\n",
       "      <th>3</th>\n",
       "      <td>yNf/R3X8fyXkOJm3ihXQcT0F52a8cDWPPRzTT6QFW8N+1Q...</td>\n",
       "      <td>0</td>\n",
       "      <td>963900</td>\n",
       "      <td>2</td>\n",
       "      <td>2</td>\n",
       "      <td>267.750000</td>\n",
       "    </tr>\n",
       "    <tr>\n",
       "      <th>4</th>\n",
       "      <td>yNf/R3X8fyXkOJm3ihXQcT0F52a8cDWPPRzTT6QFW8N+1Q...</td>\n",
       "      <td>0</td>\n",
       "      <td>963900</td>\n",
       "      <td>2</td>\n",
       "      <td>2</td>\n",
       "      <td>267.750000</td>\n",
       "    </tr>\n",
       "    <tr>\n",
       "      <th>...</th>\n",
       "      <td>...</td>\n",
       "      <td>...</td>\n",
       "      <td>...</td>\n",
       "      <td>...</td>\n",
       "      <td>...</td>\n",
       "      <td>...</td>\n",
       "    </tr>\n",
       "    <tr>\n",
       "      <th>49999995</th>\n",
       "      <td>eGGkt5KgpHgq3/eTD6MFDig9dmUu0Np3ZxwONIIbr/JJrp...</td>\n",
       "      <td>66600</td>\n",
       "      <td>66900</td>\n",
       "      <td>8</td>\n",
       "      <td>32</td>\n",
       "      <td>0.083333</td>\n",
       "    </tr>\n",
       "    <tr>\n",
       "      <th>49999996</th>\n",
       "      <td>CD2QfFma//1gKkr1Q6IpPhWRSeFndwLekf5NP/v7VgTzjs...</td>\n",
       "      <td>66600</td>\n",
       "      <td>66600</td>\n",
       "      <td>8</td>\n",
       "      <td>32</td>\n",
       "      <td>0.083333</td>\n",
       "    </tr>\n",
       "    <tr>\n",
       "      <th>49999997</th>\n",
       "      <td>822NVSqymAKC+Y5jtuMq7y4DbM6sJ8jea1ecb1beFzMwPa...</td>\n",
       "      <td>66600</td>\n",
       "      <td>68400</td>\n",
       "      <td>2</td>\n",
       "      <td>8</td>\n",
       "      <td>0.500000</td>\n",
       "    </tr>\n",
       "    <tr>\n",
       "      <th>49999998</th>\n",
       "      <td>w1MmX80UOGKecQoL1A3FfL4KS2bdZB+UlmzSK+hkhxV5pF...</td>\n",
       "      <td>66600</td>\n",
       "      <td>68400</td>\n",
       "      <td>2</td>\n",
       "      <td>4</td>\n",
       "      <td>0.500000</td>\n",
       "    </tr>\n",
       "    <tr>\n",
       "      <th>49999999</th>\n",
       "      <td>nRfpGaraO51M9P5yb4qafmjBv5DXJY2YTj96HqLN/2+lnP...</td>\n",
       "      <td>66600</td>\n",
       "      <td>114600</td>\n",
       "      <td>4</td>\n",
       "      <td>32</td>\n",
       "      <td>13.333333</td>\n",
       "    </tr>\n",
       "  </tbody>\n",
       "</table>\n",
       "<p>50000000 rows × 6 columns</p>\n",
       "</div>"
      ],
      "text/plain": [
       "                                                      vm id  \\\n",
       "0         yNf/R3X8fyXkOJm3ihXQcT0F52a8cDWPPRzTT6QFW8N+1Q...   \n",
       "1         yNf/R3X8fyXkOJm3ihXQcT0F52a8cDWPPRzTT6QFW8N+1Q...   \n",
       "2         yNf/R3X8fyXkOJm3ihXQcT0F52a8cDWPPRzTT6QFW8N+1Q...   \n",
       "3         yNf/R3X8fyXkOJm3ihXQcT0F52a8cDWPPRzTT6QFW8N+1Q...   \n",
       "4         yNf/R3X8fyXkOJm3ihXQcT0F52a8cDWPPRzTT6QFW8N+1Q...   \n",
       "...                                                     ...   \n",
       "49999995  eGGkt5KgpHgq3/eTD6MFDig9dmUu0Np3ZxwONIIbr/JJrp...   \n",
       "49999996  CD2QfFma//1gKkr1Q6IpPhWRSeFndwLekf5NP/v7VgTzjs...   \n",
       "49999997  822NVSqymAKC+Y5jtuMq7y4DbM6sJ8jea1ecb1beFzMwPa...   \n",
       "49999998  w1MmX80UOGKecQoL1A3FfL4KS2bdZB+UlmzSK+hkhxV5pF...   \n",
       "49999999  nRfpGaraO51M9P5yb4qafmjBv5DXJY2YTj96HqLN/2+lnP...   \n",
       "\n",
       "          timestamp vm created  timestamp vm deleted  \\\n",
       "0                            0                963900   \n",
       "1                            0                963900   \n",
       "2                            0                963900   \n",
       "3                            0                963900   \n",
       "4                            0                963900   \n",
       "...                        ...                   ...   \n",
       "49999995                 66600                 66900   \n",
       "49999996                 66600                 66600   \n",
       "49999997                 66600                 68400   \n",
       "49999998                 66600                 68400   \n",
       "49999999                 66600                114600   \n",
       "\n",
       "         vm virtual core count bucket vm memory (gb) bucket    lifeTime  \n",
       "0                                   2                     2  267.750000  \n",
       "1                                   2                     2  267.750000  \n",
       "2                                   2                     2  267.750000  \n",
       "3                                   2                     2  267.750000  \n",
       "4                                   2                     2  267.750000  \n",
       "...                               ...                   ...         ...  \n",
       "49999995                            8                    32    0.083333  \n",
       "49999996                            8                    32    0.083333  \n",
       "49999997                            2                     8    0.500000  \n",
       "49999998                            2                     4    0.500000  \n",
       "49999999                            4                    32   13.333333  \n",
       "\n",
       "[50000000 rows x 6 columns]"
      ]
     },
     "execution_count": 37,
     "metadata": {},
     "output_type": "execute_result"
    }
   ],
   "source": [
    "selectedFeatures = selectedFeatures.drop(['vm category'], axis = 1)\n",
    "selectedFeatures"
   ]
  },
  {
   "cell_type": "code",
   "execution_count": 136,
   "metadata": {},
   "outputs": [],
   "source": [
    "# selectedFeatures[\"vm id\"].nunique()\n",
    "# Now we have acquire the container installation time and uninstall time and the CPU requirements and memory requirements \n",
    "# we need to further explore the distribution "
   ]
  },
  {
   "cell_type": "code",
   "execution_count": 26,
   "metadata": {},
   "outputs": [
    {
     "data": {
      "text/plain": [
       "Index(['vm id', 'timestamp vm created', 'timestamp vm deleted',\n",
       "       'vm virtual core count bucket', 'vm memory (gb) bucket', 'vm category'],\n",
       "      dtype='object')"
      ]
     },
     "execution_count": 26,
     "metadata": {},
     "output_type": "execute_result"
    }
   ],
   "source": [
    "# pd.DataFrame(selectedFeatures).to_csv('/home/yuyong1/Desktop/GP_RAC_Problem/ECJ/Dataset_Preprocess/data')\n",
    "# pd.DataFrame(selectedFeatures).to_csv('C:\\\\Users\\\\vini\\\\Desktop\\\\Data\\\\AllData\\\\5data.csv')\n",
    "\n",
    "selectedFeatures.columns"
   ]
  },
  {
   "cell_type": "code",
   "execution_count": 27,
   "metadata": {
    "scrolled": true
   },
   "outputs": [
    {
     "name": "stderr",
     "output_type": "stream",
     "text": [
      "<ipython-input-27-ae69fe37983a>:1: SettingWithCopyWarning: \n",
      "A value is trying to be set on a copy of a slice from a DataFrame.\n",
      "Try using .loc[row_indexer,col_indexer] = value instead\n",
      "\n",
      "See the caveats in the documentation: https://pandas.pydata.org/pandas-docs/stable/user_guide/indexing.html#returning-a-view-versus-a-copy\n",
      "  selectedFeatures['lifeTime'] = np.maximum((selectedFeatures ['timestamp vm deleted']\n"
     ]
    }
   ],
   "source": [
    " selectedFeatures['lifeTime'] = np.maximum((selectedFeatures ['timestamp vm deleted'] \n",
    "                                            - selectedFeatures ['timestamp vm created']), 300)/3600"
   ]
  },
  {
   "cell_type": "code",
   "execution_count": 33,
   "metadata": {},
   "outputs": [
    {
     "data": {
      "text/plain": [
       "715.738428"
      ]
     },
     "execution_count": 33,
     "metadata": {},
     "output_type": "execute_result"
    }
   ],
   "source": [
    "selectedFeatures['timestamp vm created']"
   ]
  },
  {
   "cell_type": "code",
   "execution_count": 29,
   "metadata": {},
   "outputs": [],
   "source": [
    "from scipy.stats import norm\n"
   ]
  },
  {
   "cell_type": "code",
   "execution_count": 31,
   "metadata": {
    "scrolled": true
   },
   "outputs": [
    {
     "data": {
      "image/png": "[encoded data removed]",
      "text/plain": [
       "<Figure size 432x288 with 1 Axes>"
      ]
     },
     "metadata": {
      "needs_background": "light"
     },
     "output_type": "display_data"
    }
   ],
   "source": [
    "lifeTime = selectedFeatures['timestamp vm created']\n",
    "sigma = np.std(lifeTime)\n",
    "mu, std = norm.fit(lifeTime)\n",
    "plt.hist(lifeTime, bins=15, density= True)\n",
    "xmin, xmax = plt.xlim()\n",
    "x = np.linspace(xmin, xmax, 100)\n",
    "p = norm.pdf(x, mu, std)\n",
    "plt.plot(x, p, 'k', linewidth=2)\n",
    "title = \"Fit results: mu = %.2f,  std = %.2f\" % (mu, std)\n",
    "plt.title(title)\n",
    "plt.show()"
   ]
  },
  {
   "cell_type": "code",
   "execution_count": 142,
   "metadata": {},
   "outputs": [
    {
     "data": {
      "text/plain": [
       "0          Interactive\n",
       "1          Interactive\n",
       "2          Interactive\n",
       "3          Interactive\n",
       "4          Interactive\n",
       "              ...     \n",
       "9999995        Unknown\n",
       "9999996        Unknown\n",
       "9999997        Unknown\n",
       "9999998        Unknown\n",
       "9999999        Unknown\n",
       "Name: vm category, Length: 10000000, dtype: object"
      ]
     },
     "execution_count": 142,
     "metadata": {},
     "output_type": "execute_result"
    }
   ],
   "source": [
    "(selectedFeatures['vm category'])"
   ]
  },
  {
   "cell_type": "code",
   "execution_count": 143,
   "metadata": {},
   "outputs": [
    {
     "data": {
      "text/plain": [
       "vm id                            object\n",
       "timestamp vm created              int64\n",
       "timestamp vm deleted              int64\n",
       "vm virtual core count bucket     object\n",
       "vm memory (gb) bucket            object\n",
       "vm category                      object\n",
       "lifeTime                        float64\n",
       "dtype: object"
      ]
     },
     "execution_count": 143,
     "metadata": {},
     "output_type": "execute_result"
    }
   ],
   "source": [
    "selectedFeatures.dtypes"
   ]
  },
  {
   "cell_type": "code",
   "execution_count": 39,
   "metadata": {},
   "outputs": [],
   "source": [
    "selectedFeatures['vm virtual core count bucket'] = selectedFeatures['vm virtual core count bucket'].astype('category')"
   ]
  },
  {
   "cell_type": "code",
   "execution_count": 40,
   "metadata": {},
   "outputs": [
    {
     "data": {
      "text/plain": [
       "0           2\n",
       "1           2\n",
       "2           2\n",
       "3           2\n",
       "4           2\n",
       "           ..\n",
       "49999995    8\n",
       "49999996    8\n",
       "49999997    2\n",
       "49999998    2\n",
       "49999999    4\n",
       "Name: vm virtual core count bucket, Length: 50000000, dtype: category\n",
       "Categories (5, object): [2, 24, 4, 8, >24]"
      ]
     },
     "execution_count": 40,
     "metadata": {},
     "output_type": "execute_result"
    }
   ],
   "source": [
    "selectedFeatures['vm virtual core count bucket']"
   ]
  },
  {
   "cell_type": "code",
   "execution_count": 41,
   "metadata": {},
   "outputs": [],
   "source": [
    "max_value_vmcorecountbucket = 30\n",
    "selectedFeatures = selectedFeatures.replace({'vm virtual core count bucket':'>24'},max_value_vmcorecountbucket)\n"
   ]
  },
  {
   "cell_type": "code",
   "execution_count": 42,
   "metadata": {},
   "outputs": [
    {
     "data": {
      "text/plain": [
       "array(['2', '4', '32', '8', '64', 70], dtype=object)"
      ]
     },
     "execution_count": 42,
     "metadata": {},
     "output_type": "execute_result"
    }
   ],
   "source": [
    "max_value_vmmemorybucket = 70\n",
    "selectedFeatures = selectedFeatures.replace({'vm memory (gb) bucket':'>64'},max_value_vmmemorybucket)\n",
    "# trace_dataframe = trace_dataframe.astype({\"vmcorecountbucket\": int, \"vmmemorybucket\": int})\n",
    "selectedFeatures['vm memory (gb) bucket'].unique()"
   ]
  },
  {
   "cell_type": "code",
   "execution_count": 43,
   "metadata": {},
   "outputs": [],
   "source": [
    "selectedFeatures = selectedFeatures.astype({\"vm memory (gb) bucket\" : int, \"vm virtual core count bucket\" : int})"
   ]
  },
  {
   "cell_type": "code",
   "execution_count": 44,
   "metadata": {},
   "outputs": [
    {
     "data": {
      "text/plain": [
       "vm id                            object\n",
       "timestamp vm created              int64\n",
       "timestamp vm deleted              int64\n",
       "vm virtual core count bucket      int32\n",
       "vm memory (gb) bucket             int32\n",
       "lifeTime                        float64\n",
       "dtype: object"
      ]
     },
     "execution_count": 44,
     "metadata": {},
     "output_type": "execute_result"
    }
   ],
   "source": [
    "selectedFeatures.dtypes"
   ]
  },
  {
   "cell_type": "code",
   "execution_count": 45,
   "metadata": {},
   "outputs": [
    {
     "ename": "KeyError",
     "evalue": "'vm category'",
     "output_type": "error",
     "traceback": [
      "\u001b[1;31m---------------------------------------------------------------------------\u001b[0m",
      "\u001b[1;31mKeyError\u001b[0m                                  Traceback (most recent call last)",
      "\u001b[1;32mD:\\Anaconda\\lib\\site-packages\\pandas\\core\\indexes\\base.py\u001b[0m in \u001b[0;36mget_loc\u001b[1;34m(self, key, method, tolerance)\u001b[0m\n\u001b[0;32m   2645\u001b[0m             \u001b[1;32mtry\u001b[0m\u001b[1;33m:\u001b[0m\u001b[1;33m\u001b[0m\u001b[1;33m\u001b[0m\u001b[0m\n\u001b[1;32m-> 2646\u001b[1;33m                 \u001b[1;32mreturn\u001b[0m \u001b[0mself\u001b[0m\u001b[1;33m.\u001b[0m\u001b[0m_engine\u001b[0m\u001b[1;33m.\u001b[0m\u001b[0mget_loc\u001b[0m\u001b[1;33m(\u001b[0m\u001b[0mkey\u001b[0m\u001b[1;33m)\u001b[0m\u001b[1;33m\u001b[0m\u001b[1;33m\u001b[0m\u001b[0m\n\u001b[0m\u001b[0;32m   2647\u001b[0m             \u001b[1;32mexcept\u001b[0m \u001b[0mKeyError\u001b[0m\u001b[1;33m:\u001b[0m\u001b[1;33m\u001b[0m\u001b[1;33m\u001b[0m\u001b[0m\n",
      "\u001b[1;32mpandas\\_libs\\index.pyx\u001b[0m in \u001b[0;36mpandas._libs.index.IndexEngine.get_loc\u001b[1;34m()\u001b[0m\n",
      "\u001b[1;32mpandas\\_libs\\index.pyx\u001b[0m in \u001b[0;36mpandas._libs.index.IndexEngine.get_loc\u001b[1;34m()\u001b[0m\n",
      "\u001b[1;32mpandas\\_libs\\hashtable_class_helper.pxi\u001b[0m in \u001b[0;36mpandas._libs.hashtable.PyObjectHashTable.get_item\u001b[1;34m()\u001b[0m\n",
      "\u001b[1;32mpandas\\_libs\\hashtable_class_helper.pxi\u001b[0m in \u001b[0;36mpandas._libs.hashtable.PyObjectHashTable.get_item\u001b[1;34m()\u001b[0m\n",
      "\u001b[1;31mKeyError\u001b[0m: 'vm category'",
      "\nDuring handling of the above exception, another exception occurred:\n",
      "\u001b[1;31mKeyError\u001b[0m                                  Traceback (most recent call last)",
      "\u001b[1;32m<ipython-input-45-e2ffac4793ad>\u001b[0m in \u001b[0;36m<module>\u001b[1;34m\u001b[0m\n\u001b[1;32m----> 1\u001b[1;33m \u001b[0mselectedFeatures\u001b[0m\u001b[1;33m[\u001b[0m\u001b[1;34m'vm category'\u001b[0m\u001b[1;33m]\u001b[0m\u001b[1;33m.\u001b[0m\u001b[0munique\u001b[0m\u001b[1;33m(\u001b[0m\u001b[1;33m)\u001b[0m\u001b[1;33m\u001b[0m\u001b[1;33m\u001b[0m\u001b[0m\n\u001b[0m",
      "\u001b[1;32mD:\\Anaconda\\lib\\site-packages\\pandas\\core\\frame.py\u001b[0m in \u001b[0;36m__getitem__\u001b[1;34m(self, key)\u001b[0m\n\u001b[0;32m   2798\u001b[0m             \u001b[1;32mif\u001b[0m \u001b[0mself\u001b[0m\u001b[1;33m.\u001b[0m\u001b[0mcolumns\u001b[0m\u001b[1;33m.\u001b[0m\u001b[0mnlevels\u001b[0m \u001b[1;33m>\u001b[0m \u001b[1;36m1\u001b[0m\u001b[1;33m:\u001b[0m\u001b[1;33m\u001b[0m\u001b[1;33m\u001b[0m\u001b[0m\n\u001b[0;32m   2799\u001b[0m                 \u001b[1;32mreturn\u001b[0m \u001b[0mself\u001b[0m\u001b[1;33m.\u001b[0m\u001b[0m_getitem_multilevel\u001b[0m\u001b[1;33m(\u001b[0m\u001b[0mkey\u001b[0m\u001b[1;33m)\u001b[0m\u001b[1;33m\u001b[0m\u001b[1;33m\u001b[0m\u001b[0m\n\u001b[1;32m-> 2800\u001b[1;33m             \u001b[0mindexer\u001b[0m \u001b[1;33m=\u001b[0m \u001b[0mself\u001b[0m\u001b[1;33m.\u001b[0m\u001b[0mcolumns\u001b[0m\u001b[1;33m.\u001b[0m\u001b[0mget_loc\u001b[0m\u001b[1;33m(\u001b[0m\u001b[0mkey\u001b[0m\u001b[1;33m)\u001b[0m\u001b[1;33m\u001b[0m\u001b[1;33m\u001b[0m\u001b[0m\n\u001b[0m\u001b[0;32m   2801\u001b[0m             \u001b[1;32mif\u001b[0m \u001b[0mis_integer\u001b[0m\u001b[1;33m(\u001b[0m\u001b[0mindexer\u001b[0m\u001b[1;33m)\u001b[0m\u001b[1;33m:\u001b[0m\u001b[1;33m\u001b[0m\u001b[1;33m\u001b[0m\u001b[0m\n\u001b[0;32m   2802\u001b[0m                 \u001b[0mindexer\u001b[0m \u001b[1;33m=\u001b[0m \u001b[1;33m[\u001b[0m\u001b[0mindexer\u001b[0m\u001b[1;33m]\u001b[0m\u001b[1;33m\u001b[0m\u001b[1;33m\u001b[0m\u001b[0m\n",
      "\u001b[1;32mD:\\Anaconda\\lib\\site-packages\\pandas\\core\\indexes\\base.py\u001b[0m in \u001b[0;36mget_loc\u001b[1;34m(self, key, method, tolerance)\u001b[0m\n\u001b[0;32m   2646\u001b[0m                 \u001b[1;32mreturn\u001b[0m \u001b[0mself\u001b[0m\u001b[1;33m.\u001b[0m\u001b[0m_engine\u001b[0m\u001b[1;33m.\u001b[0m\u001b[0mget_loc\u001b[0m\u001b[1;33m(\u001b[0m\u001b[0mkey\u001b[0m\u001b[1;33m)\u001b[0m\u001b[1;33m\u001b[0m\u001b[1;33m\u001b[0m\u001b[0m\n\u001b[0;32m   2647\u001b[0m             \u001b[1;32mexcept\u001b[0m \u001b[0mKeyError\u001b[0m\u001b[1;33m:\u001b[0m\u001b[1;33m\u001b[0m\u001b[1;33m\u001b[0m\u001b[0m\n\u001b[1;32m-> 2648\u001b[1;33m                 \u001b[1;32mreturn\u001b[0m \u001b[0mself\u001b[0m\u001b[1;33m.\u001b[0m\u001b[0m_engine\u001b[0m\u001b[1;33m.\u001b[0m\u001b[0mget_loc\u001b[0m\u001b[1;33m(\u001b[0m\u001b[0mself\u001b[0m\u001b[1;33m.\u001b[0m\u001b[0m_maybe_cast_indexer\u001b[0m\u001b[1;33m(\u001b[0m\u001b[0mkey\u001b[0m\u001b[1;33m)\u001b[0m\u001b[1;33m)\u001b[0m\u001b[1;33m\u001b[0m\u001b[1;33m\u001b[0m\u001b[0m\n\u001b[0m\u001b[0;32m   2649\u001b[0m         \u001b[0mindexer\u001b[0m \u001b[1;33m=\u001b[0m \u001b[0mself\u001b[0m\u001b[1;33m.\u001b[0m\u001b[0mget_indexer\u001b[0m\u001b[1;33m(\u001b[0m\u001b[1;33m[\u001b[0m\u001b[0mkey\u001b[0m\u001b[1;33m]\u001b[0m\u001b[1;33m,\u001b[0m \u001b[0mmethod\u001b[0m\u001b[1;33m=\u001b[0m\u001b[0mmethod\u001b[0m\u001b[1;33m,\u001b[0m \u001b[0mtolerance\u001b[0m\u001b[1;33m=\u001b[0m\u001b[0mtolerance\u001b[0m\u001b[1;33m)\u001b[0m\u001b[1;33m\u001b[0m\u001b[1;33m\u001b[0m\u001b[0m\n\u001b[0;32m   2650\u001b[0m         \u001b[1;32mif\u001b[0m \u001b[0mindexer\u001b[0m\u001b[1;33m.\u001b[0m\u001b[0mndim\u001b[0m \u001b[1;33m>\u001b[0m \u001b[1;36m1\u001b[0m \u001b[1;32mor\u001b[0m \u001b[0mindexer\u001b[0m\u001b[1;33m.\u001b[0m\u001b[0msize\u001b[0m \u001b[1;33m>\u001b[0m \u001b[1;36m1\u001b[0m\u001b[1;33m:\u001b[0m\u001b[1;33m\u001b[0m\u001b[1;33m\u001b[0m\u001b[0m\n",
      "\u001b[1;32mpandas\\_libs\\index.pyx\u001b[0m in \u001b[0;36mpandas._libs.index.IndexEngine.get_loc\u001b[1;34m()\u001b[0m\n",
      "\u001b[1;32mpandas\\_libs\\index.pyx\u001b[0m in \u001b[0;36mpandas._libs.index.IndexEngine.get_loc\u001b[1;34m()\u001b[0m\n",
      "\u001b[1;32mpandas\\_libs\\hashtable_class_helper.pxi\u001b[0m in \u001b[0;36mpandas._libs.hashtable.PyObjectHashTable.get_item\u001b[1;34m()\u001b[0m\n",
      "\u001b[1;32mpandas\\_libs\\hashtable_class_helper.pxi\u001b[0m in \u001b[0;36mpandas._libs.hashtable.PyObjectHashTable.get_item\u001b[1;34m()\u001b[0m\n",
      "\u001b[1;31mKeyError\u001b[0m: 'vm category'"
     ]
    }
   ],
   "source": [
    "# selectedFeatures['vm category'].unique()"
   ]
  },
  {
   "cell_type": "code",
   "execution_count": 48,
   "metadata": {},
   "outputs": [],
   "source": [
    "# vmCategory = {\"vm category\": {\"Interactive\" : 0, \"Delay-insensitive\" :1, \"Unknown\" : 2}}"
   ]
  },
  {
   "cell_type": "code",
   "execution_count": 49,
   "metadata": {},
   "outputs": [],
   "source": [
    "# df = selectedFeatures.replace(vmCategory)"
   ]
  },
  {
   "cell_type": "code",
   "execution_count": 50,
   "metadata": {},
   "outputs": [],
   "source": [
    "sharePercenteage = {\"Windows\": 0.754, \"OS X\" : 0.1593, \"Unknown\" : 0.0374}"
   ]
  },
  {
   "cell_type": "code",
   "execution_count": 51,
   "metadata": {},
   "outputs": [],
   "source": [
    "# The dataset can be randomly sampled\n",
    "# VM types (paper and also ) \n",
    "# the required VM type is too big for the current settings \n",
    "# check the Microsoft VM types \n",
    "# "
   ]
  },
  {
   "cell_type": "code",
   "execution_count": 52,
   "metadata": {},
   "outputs": [],
   "source": [
    "sharePercenteage = {\"Windows\" :72.98, \"MacOS\" : 15.56 , \"Linux\" : 2.68, \"Chrome-OS\" : 1.51, \"Others\" : 7.27}\n",
    "OSTypes= [0, 1,2,3,4] # 0-5 corresponding to windows---Others \n",
    "OSprobability = [0.7298, 0.1556, 0.0268, 0.0151, 0.0727]"
   ]
  },
  {
   "cell_type": "code",
   "execution_count": 53,
   "metadata": {},
   "outputs": [
    {
     "data": {
      "text/plain": [
       "50000000"
      ]
     },
     "execution_count": 53,
     "metadata": {},
     "output_type": "execute_result"
    }
   ],
   "source": [
    "len(selectedFeatures)"
   ]
  },
  {
   "cell_type": "code",
   "execution_count": 54,
   "metadata": {},
   "outputs": [],
   "source": [
    "\n",
    "# randomly sampling from the probability distribution\n",
    "import numpy as np"
   ]
  },
  {
   "cell_type": "code",
   "execution_count": 55,
   "metadata": {},
   "outputs": [],
   "source": [
    "np.random.seed(1)\n",
    "OSs = np.random.choice(OSTypes,len(selectedFeatures), OSprobability)\n"
   ]
  },
  {
   "cell_type": "code",
   "execution_count": 58,
   "metadata": {},
   "outputs": [
    {
     "data": {
      "text/plain": [
       "30"
      ]
     },
     "execution_count": 58,
     "metadata": {},
     "output_type": "execute_result"
    }
   ],
   "source": [
    "# df=  df.assign(OsType=OSs)\n",
    "df =selectedFeatures\n",
    "np.max(df['vm virtual core count bucket'])"
   ]
  },
  {
   "cell_type": "code",
   "execution_count": 46,
   "metadata": {},
   "outputs": [],
   "source": [
    "# df.head(5)"
   ]
  },
  {
   "cell_type": "code",
   "execution_count": 59,
   "metadata": {},
   "outputs": [
    {
     "name": "stdout",
     "output_type": "stream",
     "text": [
      "[3 4 0 ... 3 2 4]\n"
     ]
    }
   ],
   "source": [
    "print(OSs)"
   ]
  },
  {
   "cell_type": "code",
   "execution_count": 60,
   "metadata": {},
   "outputs": [],
   "source": [
    "df = df.assign(OsType = OSs)\n",
    "# df.head(5)"
   ]
  },
  {
   "cell_type": "code",
   "execution_count": 61,
   "metadata": {},
   "outputs": [],
   "source": [
    "# df.to_csv(\"/home/yuyong1/Desktop/pythonProject/AzureV2Dataset/Constructed/new.csv\")\n",
    "pd.DataFrame(df).to_csv('C:\\\\Users\\\\vini\\\\Desktop\\\\Data\\\\AllData\\\\5data.csv')\n"
   ]
  },
  {
   "cell_type": "code",
   "execution_count": 164,
   "metadata": {},
   "outputs": [],
   "source": [
    "import pandas as pd\n",
    "\n",
    "dataPath = \"C:\\\\Users\\\\vini\\Desktop\\Data\\\\Constructed\\\\addedOSTypes.csv\"\n",
    "df_Data = pd.read_csv(dataPath)"
   ]
  },
  {
   "cell_type": "code",
   "execution_count": 165,
   "metadata": {},
   "outputs": [
    {
     "data": {
      "text/plain": [
       "241490"
      ]
     },
     "execution_count": 165,
     "metadata": {},
     "output_type": "execute_result"
    }
   ],
   "source": [
    "df_Data[\"vm id\"].nunique()"
   ]
  },
  {
   "cell_type": "code",
   "execution_count": 166,
   "metadata": {},
   "outputs": [
    {
     "data": {
      "text/html": [
       "<div>\n",
       "<style scoped>\n",
       "    .dataframe tbody tr th:only-of-type {\n",
       "        vertical-align: middle;\n",
       "    }\n",
       "\n",
       "    .dataframe tbody tr th {\n",
       "        vertical-align: top;\n",
       "    }\n",
       "\n",
       "    .dataframe thead th {\n",
       "        text-align: right;\n",
       "    }\n",
       "</style>\n",
       "<table border=\"1\" class=\"dataframe\">\n",
       "  <thead>\n",
       "    <tr style=\"text-align: right;\">\n",
       "      <th></th>\n",
       "      <th>Unnamed: 0</th>\n",
       "      <th>vm id</th>\n",
       "      <th>timestamp vm created</th>\n",
       "      <th>timestamp vm deleted</th>\n",
       "      <th>vm virtual core count bucket</th>\n",
       "      <th>vm memory (gb) bucket</th>\n",
       "      <th>vm category</th>\n",
       "      <th>lifeTime</th>\n",
       "      <th>OsType</th>\n",
       "    </tr>\n",
       "  </thead>\n",
       "  <tbody>\n",
       "    <tr>\n",
       "      <th>0</th>\n",
       "      <td>0</td>\n",
       "      <td>yNf/R3X8fyXkOJm3ihXQcT0F52a8cDWPPRzTT6QFW8N+1Q...</td>\n",
       "      <td>0</td>\n",
       "      <td>963900</td>\n",
       "      <td>2</td>\n",
       "      <td>2</td>\n",
       "      <td>0</td>\n",
       "      <td>267.750000</td>\n",
       "      <td>3</td>\n",
       "    </tr>\n",
       "    <tr>\n",
       "      <th>1</th>\n",
       "      <td>1</td>\n",
       "      <td>yNf/R3X8fyXkOJm3ihXQcT0F52a8cDWPPRzTT6QFW8N+1Q...</td>\n",
       "      <td>0</td>\n",
       "      <td>963900</td>\n",
       "      <td>2</td>\n",
       "      <td>2</td>\n",
       "      <td>0</td>\n",
       "      <td>267.750000</td>\n",
       "      <td>4</td>\n",
       "    </tr>\n",
       "    <tr>\n",
       "      <th>2</th>\n",
       "      <td>2</td>\n",
       "      <td>yNf/R3X8fyXkOJm3ihXQcT0F52a8cDWPPRzTT6QFW8N+1Q...</td>\n",
       "      <td>0</td>\n",
       "      <td>963900</td>\n",
       "      <td>2</td>\n",
       "      <td>2</td>\n",
       "      <td>0</td>\n",
       "      <td>267.750000</td>\n",
       "      <td>0</td>\n",
       "    </tr>\n",
       "    <tr>\n",
       "      <th>3</th>\n",
       "      <td>3</td>\n",
       "      <td>yNf/R3X8fyXkOJm3ihXQcT0F52a8cDWPPRzTT6QFW8N+1Q...</td>\n",
       "      <td>0</td>\n",
       "      <td>963900</td>\n",
       "      <td>2</td>\n",
       "      <td>2</td>\n",
       "      <td>0</td>\n",
       "      <td>267.750000</td>\n",
       "      <td>1</td>\n",
       "    </tr>\n",
       "    <tr>\n",
       "      <th>4</th>\n",
       "      <td>4</td>\n",
       "      <td>yNf/R3X8fyXkOJm3ihXQcT0F52a8cDWPPRzTT6QFW8N+1Q...</td>\n",
       "      <td>0</td>\n",
       "      <td>963900</td>\n",
       "      <td>2</td>\n",
       "      <td>2</td>\n",
       "      <td>0</td>\n",
       "      <td>267.750000</td>\n",
       "      <td>3</td>\n",
       "    </tr>\n",
       "    <tr>\n",
       "      <th>...</th>\n",
       "      <td>...</td>\n",
       "      <td>...</td>\n",
       "      <td>...</td>\n",
       "      <td>...</td>\n",
       "      <td>...</td>\n",
       "      <td>...</td>\n",
       "      <td>...</td>\n",
       "      <td>...</td>\n",
       "      <td>...</td>\n",
       "    </tr>\n",
       "    <tr>\n",
       "      <th>9999995</th>\n",
       "      <td>9999995</td>\n",
       "      <td>6jZU16pQojv4ipDbtJ4gwa++eG0h8H5JNAoRkGX4o2efUZ...</td>\n",
       "      <td>13200</td>\n",
       "      <td>14400</td>\n",
       "      <td>2</td>\n",
       "      <td>4</td>\n",
       "      <td>2</td>\n",
       "      <td>0.333333</td>\n",
       "      <td>4</td>\n",
       "    </tr>\n",
       "    <tr>\n",
       "      <th>9999996</th>\n",
       "      <td>9999996</td>\n",
       "      <td>eLWZNxRTPM6ptStOT666xBszxjiorI+ZGqWMekOd8jCuUM...</td>\n",
       "      <td>13200</td>\n",
       "      <td>21600</td>\n",
       "      <td>2</td>\n",
       "      <td>4</td>\n",
       "      <td>2</td>\n",
       "      <td>2.333333</td>\n",
       "      <td>2</td>\n",
       "    </tr>\n",
       "    <tr>\n",
       "      <th>9999997</th>\n",
       "      <td>9999997</td>\n",
       "      <td>mGxfvooAMnJftkjMH2CW/f3iac0wD1AkfZL2ku24qy8TK5...</td>\n",
       "      <td>13200</td>\n",
       "      <td>14700</td>\n",
       "      <td>2</td>\n",
       "      <td>8</td>\n",
       "      <td>2</td>\n",
       "      <td>0.416667</td>\n",
       "      <td>2</td>\n",
       "    </tr>\n",
       "    <tr>\n",
       "      <th>9999998</th>\n",
       "      <td>9999998</td>\n",
       "      <td>APf8kpb2fY9n0TNpBQ0ijsZhIKWGtfhVkVrDDDVPfQD072...</td>\n",
       "      <td>13200</td>\n",
       "      <td>14700</td>\n",
       "      <td>2</td>\n",
       "      <td>8</td>\n",
       "      <td>2</td>\n",
       "      <td>0.416667</td>\n",
       "      <td>2</td>\n",
       "    </tr>\n",
       "    <tr>\n",
       "      <th>9999999</th>\n",
       "      <td>9999999</td>\n",
       "      <td>fvCBvaRblQpyEBwu3zokVKoTs5N637iWYQ/7Yhd9GqLtyO...</td>\n",
       "      <td>13200</td>\n",
       "      <td>13800</td>\n",
       "      <td>2</td>\n",
       "      <td>4</td>\n",
       "      <td>2</td>\n",
       "      <td>0.166667</td>\n",
       "      <td>3</td>\n",
       "    </tr>\n",
       "  </tbody>\n",
       "</table>\n",
       "<p>10000000 rows × 9 columns</p>\n",
       "</div>"
      ],
      "text/plain": [
       "         Unnamed: 0                                              vm id  \\\n",
       "0                 0  yNf/R3X8fyXkOJm3ihXQcT0F52a8cDWPPRzTT6QFW8N+1Q...   \n",
       "1                 1  yNf/R3X8fyXkOJm3ihXQcT0F52a8cDWPPRzTT6QFW8N+1Q...   \n",
       "2                 2  yNf/R3X8fyXkOJm3ihXQcT0F52a8cDWPPRzTT6QFW8N+1Q...   \n",
       "3                 3  yNf/R3X8fyXkOJm3ihXQcT0F52a8cDWPPRzTT6QFW8N+1Q...   \n",
       "4                 4  yNf/R3X8fyXkOJm3ihXQcT0F52a8cDWPPRzTT6QFW8N+1Q...   \n",
       "...             ...                                                ...   \n",
       "9999995     9999995  6jZU16pQojv4ipDbtJ4gwa++eG0h8H5JNAoRkGX4o2efUZ...   \n",
       "9999996     9999996  eLWZNxRTPM6ptStOT666xBszxjiorI+ZGqWMekOd8jCuUM...   \n",
       "9999997     9999997  mGxfvooAMnJftkjMH2CW/f3iac0wD1AkfZL2ku24qy8TK5...   \n",
       "9999998     9999998  APf8kpb2fY9n0TNpBQ0ijsZhIKWGtfhVkVrDDDVPfQD072...   \n",
       "9999999     9999999  fvCBvaRblQpyEBwu3zokVKoTs5N637iWYQ/7Yhd9GqLtyO...   \n",
       "\n",
       "         timestamp vm created  timestamp vm deleted  \\\n",
       "0                           0                963900   \n",
       "1                           0                963900   \n",
       "2                           0                963900   \n",
       "3                           0                963900   \n",
       "4                           0                963900   \n",
       "...                       ...                   ...   \n",
       "9999995                 13200                 14400   \n",
       "9999996                 13200                 21600   \n",
       "9999997                 13200                 14700   \n",
       "9999998                 13200                 14700   \n",
       "9999999                 13200                 13800   \n",
       "\n",
       "         vm virtual core count bucket  vm memory (gb) bucket  vm category  \\\n",
       "0                                   2                      2            0   \n",
       "1                                   2                      2            0   \n",
       "2                                   2                      2            0   \n",
       "3                                   2                      2            0   \n",
       "4                                   2                      2            0   \n",
       "...                               ...                    ...          ...   \n",
       "9999995                             2                      4            2   \n",
       "9999996                             2                      4            2   \n",
       "9999997                             2                      8            2   \n",
       "9999998                             2                      8            2   \n",
       "9999999                             2                      4            2   \n",
       "\n",
       "           lifeTime  OsType  \n",
       "0        267.750000       3  \n",
       "1        267.750000       4  \n",
       "2        267.750000       0  \n",
       "3        267.750000       1  \n",
       "4        267.750000       3  \n",
       "...             ...     ...  \n",
       "9999995    0.333333       4  \n",
       "9999996    2.333333       2  \n",
       "9999997    0.416667       2  \n",
       "9999998    0.416667       2  \n",
       "9999999    0.166667       3  \n",
       "\n",
       "[10000000 rows x 9 columns]"
      ]
     },
     "execution_count": 166,
     "metadata": {},
     "output_type": "execute_result"
    }
   ],
   "source": [
    "df_Data "
   ]
  },
  {
   "cell_type": "code",
   "execution_count": 167,
   "metadata": {},
   "outputs": [
    {
     "name": "stdout",
     "output_type": "stream",
     "text": [
      "dt_object = 1970-01-01 17:00:00\n"
     ]
    }
   ],
   "source": [
    "from datetime import datetime\n",
    "timestamp = 14400\n",
    "\n",
    "dt_object = datetime.fromtimestamp(timestamp)\n",
    "print(\"dt_object =\", dt_object)\n",
    "    \n",
    "    "
   ]
  },
  {
   "cell_type": "code",
   "execution_count": 168,
   "metadata": {},
   "outputs": [
    {
     "data": {
      "text/plain": [
       "Index(['Unnamed: 0', 'vm id', 'timestamp vm created', 'timestamp vm deleted',\n",
       "       'vm virtual core count bucket', 'vm memory (gb) bucket', 'vm category',\n",
       "       'lifeTime', 'OsType'],\n",
       "      dtype='object')"
      ]
     },
     "execution_count": 168,
     "metadata": {},
     "output_type": "execute_result"
    }
   ],
   "source": [
    "df = df_Data\n",
    "df.columns"
   ]
  },
  {
   "cell_type": "code",
   "execution_count": 169,
   "metadata": {},
   "outputs": [],
   "source": [
    "df = df.drop(['Unnamed: 0'],axis=1)\n",
    "df\n",
    "predictionData = df.drop(['OsType'],axis=1)\n"
   ]
  },
  {
   "cell_type": "code",
   "execution_count": 170,
   "metadata": {},
   "outputs": [],
   "source": [
    "predictionData['timestamp vm created'] = predictionData['timestamp vm created'] - np.min(predictionData['timestamp vm created'] )"
   ]
  },
  {
   "cell_type": "code",
   "execution_count": 176,
   "metadata": {},
   "outputs": [
    {
     "data": {
      "text/plain": [
       "0.980384"
      ]
     },
     "execution_count": 176,
     "metadata": {},
     "output_type": "execute_result"
    }
   ],
   "source": [
    "predictionData['VMCreateTime'] = predictionData['timestamp vm created']/60\n",
    "predictionData['VMTimeHour'] = np.floor(predictionData['VMCreateTime'])\n",
    "np.mean(predictionData['VMTimeHour'] )"
   ]
  },
  {
   "cell_type": "code",
   "execution_count": 174,
   "metadata": {},
   "outputs": [
    {
     "data": {
      "text/plain": [
       "220.0"
      ]
     },
     "execution_count": 174,
     "metadata": {},
     "output_type": "execute_result"
    }
   ],
   "source": [
    "np.max(predictionData['VMCreateTime'])\n",
    "\n",
    "\n"
   ]
  },
  {
   "cell_type": "code",
   "execution_count": 38,
   "metadata": {},
   "outputs": [
    {
     "data": {
      "text/plain": [
       "18.5"
      ]
     },
     "execution_count": 38,
     "metadata": {},
     "output_type": "execute_result"
    }
   ],
   "source": [
    "66600/3600"
   ]
  },
  {
   "cell_type": "code",
   "execution_count": null,
   "metadata": {},
   "outputs": [],
   "source": []
  }
 ],
 "metadata": {
  "kernelspec": {
   "display_name": "Python 3",
   "language": "python",
   "name": "python3"
  },
  "language_info": {
   "codemirror_mode": {
    "name": "ipython",
    "version": 3
   },
   "file_extension": ".py",
   "mimetype": "text/x-python",
   "name": "python",
   "nbconvert_exporter": "python",
   "pygments_lexer": "ipython3",
   "version": "3.8.3"
  }
 },
 "nbformat": 4,
 "nbformat_minor": 5
}
